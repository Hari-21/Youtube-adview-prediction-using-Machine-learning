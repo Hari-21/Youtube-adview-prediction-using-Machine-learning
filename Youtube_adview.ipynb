{
  "nbformat": 4,
  "nbformat_minor": 0,
  "metadata": {
    "colab": {
      "provenance": []
    },
    "kernelspec": {
      "name": "python3",
      "display_name": "Python 3"
    },
    "language_info": {
      "name": "python"
    }
  },
  "cells": [
    {
      "cell_type": "code",
      "metadata": {
        "colab": {
          "base_uri": "https://localhost:8080/"
        },
        "id": "0Zq8NGybf7N4",
        "outputId": "fed616eb-6cd7-4926-a65c-3180fb3edfda"
      },
      "source": [
        "import numpy as np\n",
        "import pandas as pd\n",
        "import matplotlib.cm as cm\n",
        "import matplotlib.pyplot as plt\n",
        "data_train = pd.read_csv(\"train.csv\")\n",
        "data_train.head()\n",
        "data_train.shape\n"
      ],
      "execution_count": null,
      "outputs": [
        {
          "output_type": "execute_result",
          "data": {
            "text/plain": [
              "(14999, 9)"
            ]
          },
          "metadata": {
            "tags": []
          },
          "execution_count": 213
        }
      ]
    },
    {
      "cell_type": "code",
      "metadata": {
        "colab": {
          "base_uri": "https://localhost:8080/",
          "height": 295
        },
        "id": "1cGJ0B3rsqDV",
        "outputId": "9b16c649-506b-45dc-cd48-6cef01714853"
      },
      "source": [
        "data_train.describe()"
      ],
      "execution_count": null,
      "outputs": [
        {
          "output_type": "execute_result",
          "data": {
            "text/html": [
              "<div>\n",
              "<style scoped>\n",
              "    .dataframe tbody tr th:only-of-type {\n",
              "        vertical-align: middle;\n",
              "    }\n",
              "\n",
              "    .dataframe tbody tr th {\n",
              "        vertical-align: top;\n",
              "    }\n",
              "\n",
              "    .dataframe thead th {\n",
              "        text-align: right;\n",
              "    }\n",
              "</style>\n",
              "<table border=\"1\" class=\"dataframe\">\n",
              "  <thead>\n",
              "    <tr style=\"text-align: right;\">\n",
              "      <th></th>\n",
              "      <th>adview</th>\n",
              "    </tr>\n",
              "  </thead>\n",
              "  <tbody>\n",
              "    <tr>\n",
              "      <th>count</th>\n",
              "      <td>1.499900e+04</td>\n",
              "    </tr>\n",
              "    <tr>\n",
              "      <th>mean</th>\n",
              "      <td>2.107791e+03</td>\n",
              "    </tr>\n",
              "    <tr>\n",
              "      <th>std</th>\n",
              "      <td>5.237711e+04</td>\n",
              "    </tr>\n",
              "    <tr>\n",
              "      <th>min</th>\n",
              "      <td>1.000000e+00</td>\n",
              "    </tr>\n",
              "    <tr>\n",
              "      <th>25%</th>\n",
              "      <td>1.000000e+00</td>\n",
              "    </tr>\n",
              "    <tr>\n",
              "      <th>50%</th>\n",
              "      <td>2.000000e+00</td>\n",
              "    </tr>\n",
              "    <tr>\n",
              "      <th>75%</th>\n",
              "      <td>6.000000e+00</td>\n",
              "    </tr>\n",
              "    <tr>\n",
              "      <th>max</th>\n",
              "      <td>5.429665e+06</td>\n",
              "    </tr>\n",
              "  </tbody>\n",
              "</table>\n",
              "</div>"
            ],
            "text/plain": [
              "             adview\n",
              "count  1.499900e+04\n",
              "mean   2.107791e+03\n",
              "std    5.237711e+04\n",
              "min    1.000000e+00\n",
              "25%    1.000000e+00\n",
              "50%    2.000000e+00\n",
              "75%    6.000000e+00\n",
              "max    5.429665e+06"
            ]
          },
          "metadata": {
            "tags": []
          },
          "execution_count": 214
        }
      ]
    },
    {
      "cell_type": "code",
      "metadata": {
        "colab": {
          "base_uri": "https://localhost:8080/"
        },
        "id": "l-zmtPmWsvB-",
        "outputId": "7b26055d-1700-49e0-eb69-2ba01fb4a05e"
      },
      "source": [
        "data_train.info()"
      ],
      "execution_count": null,
      "outputs": [
        {
          "output_type": "stream",
          "text": [
            "<class 'pandas.core.frame.DataFrame'>\n",
            "RangeIndex: 14999 entries, 0 to 14998\n",
            "Data columns (total 9 columns):\n",
            " #   Column     Non-Null Count  Dtype \n",
            "---  ------     --------------  ----- \n",
            " 0   vidid      14999 non-null  object\n",
            " 1   adview     14999 non-null  int64 \n",
            " 2   views      14999 non-null  object\n",
            " 3   likes      14999 non-null  object\n",
            " 4   dislikes   14999 non-null  object\n",
            " 5   comment    14999 non-null  object\n",
            " 6   published  14999 non-null  object\n",
            " 7   duration   14999 non-null  object\n",
            " 8   category   14999 non-null  object\n",
            "dtypes: int64(1), object(8)\n",
            "memory usage: 1.0+ MB\n"
          ],
          "name": "stdout"
        }
      ]
    },
    {
      "cell_type": "code",
      "metadata": {
        "colab": {
          "base_uri": "https://localhost:8080/"
        },
        "id": "PW6KeZnIs_0x",
        "outputId": "5007dfa8-f89b-428f-fbd2-86cd52c399aa"
      },
      "source": [
        "a = pd.DataFrame(data_train)\n",
        "a.dtypes"
      ],
      "execution_count": null,
      "outputs": [
        {
          "output_type": "execute_result",
          "data": {
            "text/plain": [
              "vidid        object\n",
              "adview        int64\n",
              "views        object\n",
              "likes        object\n",
              "dislikes     object\n",
              "comment      object\n",
              "published    object\n",
              "duration     object\n",
              "category     object\n",
              "dtype: object"
            ]
          },
          "metadata": {
            "tags": []
          },
          "execution_count": 216
        }
      ]
    },
    {
      "cell_type": "code",
      "metadata": {
        "colab": {
          "base_uri": "https://localhost:8080/",
          "height": 524
        },
        "id": "SyIMlWNqggG4",
        "outputId": "76f82bc3-b061-45a2-dfc3-5d08dcac3208"
      },
      "source": [
        "plt.hist(data_train[\"category\"])\n",
        "plt.show()\n",
        "plt.plot(data_train[\"adview\"])\n",
        "plt.show()\n"
      ],
      "execution_count": null,
      "outputs": [
        {
          "output_type": "display_data",
          "data": {
            "image/png": "[encoded data removed]",
            "text/plain": [
              "<Figure size 432x288 with 1 Axes>"
            ]
          },
          "metadata": {
            "tags": [],
            "needs_background": "light"
          }
        },
        {
          "output_type": "display_data",
          "data": {
            "image/png": "[encoded data removed]",
            "text/plain": [
              "<Figure size 432x288 with 1 Axes>"
            ]
          },
          "metadata": {
            "tags": [],
            "needs_background": "light"
          }
        }
      ]
    },
    {
      "cell_type": "code",
      "metadata": {
        "id": "9oOlPyiLhSz-"
      },
      "source": [
        "data_train = data_train[data_train[\"adview\"] <2000000]"
      ],
      "execution_count": null,
      "outputs": []
    },
    {
      "cell_type": "code",
      "metadata": {
        "colab": {
          "base_uri": "https://localhost:8080/",
          "height": 487
        },
        "id": "FZFYqSqYhVz1",
        "outputId": "9f7059f0-e810-448b-a4ed-8b81b13ed1f2"
      },
      "source": [
        "import seaborn as sns\n",
        "f, ax = plt.subplots(figsize=(10, 8))\n",
        "corr = data_train.corr()\n",
        "sns.heatmap(corr, mask=np.zeros_like(corr, dtype=np.bool), cmap=sns.diverging_palette(220, 10, as_cmap=True),\n",
        "square=True, ax=ax,annot=True)\n",
        "plt.show()\n"
      ],
      "execution_count": null,
      "outputs": [
        {
          "output_type": "display_data",
          "data": {
            "image/png": "[encoded data removed]",
            "text/plain": [
              "<Figure size 720x576 with 2 Axes>"
            ]
          },
          "metadata": {
            "tags": [],
            "needs_background": "light"
          }
        }
      ]
    },
    {
      "cell_type": "code",
      "metadata": {
        "id": "xJTxI9UThanE"
      },
      "source": [
        "data_train=data_train[data_train.views!='F']\n",
        "data_train=data_train[data_train.likes!='F']\n",
        "data_train=data_train[data_train.dislikes!='F']\n",
        "data_train=data_train[data_train.comment!='F']"
      ],
      "execution_count": null,
      "outputs": []
    },
    {
      "cell_type": "code",
      "metadata": {
        "colab": {
          "base_uri": "https://localhost:8080/",
          "height": 203
        },
        "id": "sZtDsonZhfA3",
        "outputId": "ca799896-fbac-4328-9949-3b16d2d0c8e6"
      },
      "source": [
        "data_train.head()"
      ],
      "execution_count": null,
      "outputs": [
        {
          "output_type": "execute_result",
          "data": {
            "text/html": [
              "<div>\n",
              "<style scoped>\n",
              "    .dataframe tbody tr th:only-of-type {\n",
              "        vertical-align: middle;\n",
              "    }\n",
              "\n",
              "    .dataframe tbody tr th {\n",
              "        vertical-align: top;\n",
              "    }\n",
              "\n",
              "    .dataframe thead th {\n",
              "        text-align: right;\n",
              "    }\n",
              "</style>\n",
              "<table border=\"1\" class=\"dataframe\">\n",
              "  <thead>\n",
              "    <tr style=\"text-align: right;\">\n",
              "      <th></th>\n",
              "      <th>vidid</th>\n",
              "      <th>adview</th>\n",
              "      <th>views</th>\n",
              "      <th>likes</th>\n",
              "      <th>dislikes</th>\n",
              "      <th>comment</th>\n",
              "      <th>published</th>\n",
              "      <th>duration</th>\n",
              "      <th>category</th>\n",
              "    </tr>\n",
              "  </thead>\n",
              "  <tbody>\n",
              "    <tr>\n",
              "      <th>0</th>\n",
              "      <td>VID_18655</td>\n",
              "      <td>40</td>\n",
              "      <td>1031602</td>\n",
              "      <td>8523</td>\n",
              "      <td>363</td>\n",
              "      <td>1095</td>\n",
              "      <td>2016-09-14</td>\n",
              "      <td>PT7M37S</td>\n",
              "      <td>F</td>\n",
              "    </tr>\n",
              "    <tr>\n",
              "      <th>1</th>\n",
              "      <td>VID_14135</td>\n",
              "      <td>2</td>\n",
              "      <td>1707</td>\n",
              "      <td>56</td>\n",
              "      <td>2</td>\n",
              "      <td>6</td>\n",
              "      <td>2016-10-01</td>\n",
              "      <td>PT9M30S</td>\n",
              "      <td>D</td>\n",
              "    </tr>\n",
              "    <tr>\n",
              "      <th>2</th>\n",
              "      <td>VID_2187</td>\n",
              "      <td>1</td>\n",
              "      <td>2023</td>\n",
              "      <td>25</td>\n",
              "      <td>0</td>\n",
              "      <td>2</td>\n",
              "      <td>2016-07-02</td>\n",
              "      <td>PT2M16S</td>\n",
              "      <td>C</td>\n",
              "    </tr>\n",
              "    <tr>\n",
              "      <th>3</th>\n",
              "      <td>VID_23096</td>\n",
              "      <td>6</td>\n",
              "      <td>620860</td>\n",
              "      <td>777</td>\n",
              "      <td>161</td>\n",
              "      <td>153</td>\n",
              "      <td>2016-07-27</td>\n",
              "      <td>PT4M22S</td>\n",
              "      <td>H</td>\n",
              "    </tr>\n",
              "    <tr>\n",
              "      <th>4</th>\n",
              "      <td>VID_10175</td>\n",
              "      <td>1</td>\n",
              "      <td>666</td>\n",
              "      <td>1</td>\n",
              "      <td>0</td>\n",
              "      <td>0</td>\n",
              "      <td>2016-06-29</td>\n",
              "      <td>PT31S</td>\n",
              "      <td>D</td>\n",
              "    </tr>\n",
              "  </tbody>\n",
              "</table>\n",
              "</div>"
            ],
            "text/plain": [
              "       vidid  adview    views likes  ... comment   published duration category\n",
              "0  VID_18655      40  1031602  8523  ...    1095  2016-09-14  PT7M37S        F\n",
              "1  VID_14135       2     1707    56  ...       6  2016-10-01  PT9M30S        D\n",
              "2   VID_2187       1     2023    25  ...       2  2016-07-02  PT2M16S        C\n",
              "3  VID_23096       6   620860   777  ...     153  2016-07-27  PT4M22S        H\n",
              "4  VID_10175       1      666     1  ...       0  2016-06-29    PT31S        D\n",
              "\n",
              "[5 rows x 9 columns]"
            ]
          },
          "metadata": {
            "tags": []
          },
          "execution_count": 221
        }
      ]
    },
    {
      "cell_type": "code",
      "metadata": {
        "colab": {
          "base_uri": "https://localhost:8080/",
          "height": 203
        },
        "id": "vgcCf-qXhkbu",
        "outputId": "596b53ba-8f53-47e9-fe97-280ba39d7ae1"
      },
      "source": [
        "category={'A': 1,'B':2,'C':3,'D':4,'E':5,'F':6,'G':7,'H':8}\n",
        "data_train[\"category\"]=data_train[\"category\"].map(category)\n",
        "data_train.head()\n"
      ],
      "execution_count": null,
      "outputs": [
        {
          "output_type": "execute_result",
          "data": {
            "text/html": [
              "<div>\n",
              "<style scoped>\n",
              "    .dataframe tbody tr th:only-of-type {\n",
              "        vertical-align: middle;\n",
              "    }\n",
              "\n",
              "    .dataframe tbody tr th {\n",
              "        vertical-align: top;\n",
              "    }\n",
              "\n",
              "    .dataframe thead th {\n",
              "        text-align: right;\n",
              "    }\n",
              "</style>\n",
              "<table border=\"1\" class=\"dataframe\">\n",
              "  <thead>\n",
              "    <tr style=\"text-align: right;\">\n",
              "      <th></th>\n",
              "      <th>vidid</th>\n",
              "      <th>adview</th>\n",
              "      <th>views</th>\n",
              "      <th>likes</th>\n",
              "      <th>dislikes</th>\n",
              "      <th>comment</th>\n",
              "      <th>published</th>\n",
              "      <th>duration</th>\n",
              "      <th>category</th>\n",
              "    </tr>\n",
              "  </thead>\n",
              "  <tbody>\n",
              "    <tr>\n",
              "      <th>0</th>\n",
              "      <td>VID_18655</td>\n",
              "      <td>40</td>\n",
              "      <td>1031602</td>\n",
              "      <td>8523</td>\n",
              "      <td>363</td>\n",
              "      <td>1095</td>\n",
              "      <td>2016-09-14</td>\n",
              "      <td>PT7M37S</td>\n",
              "      <td>6</td>\n",
              "    </tr>\n",
              "    <tr>\n",
              "      <th>1</th>\n",
              "      <td>VID_14135</td>\n",
              "      <td>2</td>\n",
              "      <td>1707</td>\n",
              "      <td>56</td>\n",
              "      <td>2</td>\n",
              "      <td>6</td>\n",
              "      <td>2016-10-01</td>\n",
              "      <td>PT9M30S</td>\n",
              "      <td>4</td>\n",
              "    </tr>\n",
              "    <tr>\n",
              "      <th>2</th>\n",
              "      <td>VID_2187</td>\n",
              "      <td>1</td>\n",
              "      <td>2023</td>\n",
              "      <td>25</td>\n",
              "      <td>0</td>\n",
              "      <td>2</td>\n",
              "      <td>2016-07-02</td>\n",
              "      <td>PT2M16S</td>\n",
              "      <td>3</td>\n",
              "    </tr>\n",
              "    <tr>\n",
              "      <th>3</th>\n",
              "      <td>VID_23096</td>\n",
              "      <td>6</td>\n",
              "      <td>620860</td>\n",
              "      <td>777</td>\n",
              "      <td>161</td>\n",
              "      <td>153</td>\n",
              "      <td>2016-07-27</td>\n",
              "      <td>PT4M22S</td>\n",
              "      <td>8</td>\n",
              "    </tr>\n",
              "    <tr>\n",
              "      <th>4</th>\n",
              "      <td>VID_10175</td>\n",
              "      <td>1</td>\n",
              "      <td>666</td>\n",
              "      <td>1</td>\n",
              "      <td>0</td>\n",
              "      <td>0</td>\n",
              "      <td>2016-06-29</td>\n",
              "      <td>PT31S</td>\n",
              "      <td>4</td>\n",
              "    </tr>\n",
              "  </tbody>\n",
              "</table>\n",
              "</div>"
            ],
            "text/plain": [
              "       vidid  adview    views likes  ... comment   published duration category\n",
              "0  VID_18655      40  1031602  8523  ...    1095  2016-09-14  PT7M37S        6\n",
              "1  VID_14135       2     1707    56  ...       6  2016-10-01  PT9M30S        4\n",
              "2   VID_2187       1     2023    25  ...       2  2016-07-02  PT2M16S        3\n",
              "3  VID_23096       6   620860   777  ...     153  2016-07-27  PT4M22S        8\n",
              "4  VID_10175       1      666     1  ...       0  2016-06-29    PT31S        4\n",
              "\n",
              "[5 rows x 9 columns]"
            ]
          },
          "metadata": {
            "tags": []
          },
          "execution_count": 222
        }
      ]
    },
    {
      "cell_type": "code",
      "metadata": {
        "id": "xS1M5ob-hlxF"
      },
      "source": [
        "data_train[\"views\"] = pd.to_numeric(data_train[\"views\"])\n",
        "data_train[\"comment\"] = pd.to_numeric(data_train[\"comment\"])\n",
        "data_train[\"likes\"] = pd.to_numeric(data_train[\"likes\"])\n",
        "data_train[\"dislikes\"] = pd.to_numeric(data_train[\"dislikes\"])\n",
        "data_train[\"adview\"]=pd.to_numeric(data_train[\"adview\"])\n"
      ],
      "execution_count": null,
      "outputs": []
    },
    {
      "cell_type": "code",
      "metadata": {
        "id": "B-l_AyOjhpm8"
      },
      "source": [
        "from sklearn.preprocessing import LabelEncoder\n",
        "data_train['duration']=LabelEncoder().fit_transform(data_train['duration'])\n",
        "data_train['vidid']=LabelEncoder().fit_transform(data_train['vidid'])\n",
        "data_train['published']=LabelEncoder().fit_transform(data_train['published'])"
      ],
      "execution_count": null,
      "outputs": []
    },
    {
      "cell_type": "code",
      "metadata": {
        "colab": {
          "base_uri": "https://localhost:8080/",
          "height": 203
        },
        "id": "ZCNc3oQzhsdd",
        "outputId": "8d59b192-6b5e-4fd2-e100-6f8885ca71b2"
      },
      "source": [
        "data_train.head()\n"
      ],
      "execution_count": null,
      "outputs": [
        {
          "output_type": "execute_result",
          "data": {
            "text/html": [
              "<div>\n",
              "<style scoped>\n",
              "    .dataframe tbody tr th:only-of-type {\n",
              "        vertical-align: middle;\n",
              "    }\n",
              "\n",
              "    .dataframe tbody tr th {\n",
              "        vertical-align: top;\n",
              "    }\n",
              "\n",
              "    .dataframe thead th {\n",
              "        text-align: right;\n",
              "    }\n",
              "</style>\n",
              "<table border=\"1\" class=\"dataframe\">\n",
              "  <thead>\n",
              "    <tr style=\"text-align: right;\">\n",
              "      <th></th>\n",
              "      <th>vidid</th>\n",
              "      <th>adview</th>\n",
              "      <th>views</th>\n",
              "      <th>likes</th>\n",
              "      <th>dislikes</th>\n",
              "      <th>comment</th>\n",
              "      <th>published</th>\n",
              "      <th>duration</th>\n",
              "      <th>category</th>\n",
              "    </tr>\n",
              "  </thead>\n",
              "  <tbody>\n",
              "    <tr>\n",
              "      <th>0</th>\n",
              "      <td>5912</td>\n",
              "      <td>40</td>\n",
              "      <td>1031602</td>\n",
              "      <td>8523</td>\n",
              "      <td>363</td>\n",
              "      <td>1095</td>\n",
              "      <td>2168</td>\n",
              "      <td>2925</td>\n",
              "      <td>6</td>\n",
              "    </tr>\n",
              "    <tr>\n",
              "      <th>1</th>\n",
              "      <td>2741</td>\n",
              "      <td>2</td>\n",
              "      <td>1707</td>\n",
              "      <td>56</td>\n",
              "      <td>2</td>\n",
              "      <td>6</td>\n",
              "      <td>2185</td>\n",
              "      <td>3040</td>\n",
              "      <td>4</td>\n",
              "    </tr>\n",
              "    <tr>\n",
              "      <th>2</th>\n",
              "      <td>8138</td>\n",
              "      <td>1</td>\n",
              "      <td>2023</td>\n",
              "      <td>25</td>\n",
              "      <td>0</td>\n",
              "      <td>2</td>\n",
              "      <td>2094</td>\n",
              "      <td>1863</td>\n",
              "      <td>3</td>\n",
              "    </tr>\n",
              "    <tr>\n",
              "      <th>3</th>\n",
              "      <td>9004</td>\n",
              "      <td>6</td>\n",
              "      <td>620860</td>\n",
              "      <td>777</td>\n",
              "      <td>161</td>\n",
              "      <td>153</td>\n",
              "      <td>2119</td>\n",
              "      <td>2546</td>\n",
              "      <td>8</td>\n",
              "    </tr>\n",
              "    <tr>\n",
              "      <th>4</th>\n",
              "      <td>122</td>\n",
              "      <td>1</td>\n",
              "      <td>666</td>\n",
              "      <td>1</td>\n",
              "      <td>0</td>\n",
              "      <td>0</td>\n",
              "      <td>2091</td>\n",
              "      <td>1963</td>\n",
              "      <td>4</td>\n",
              "    </tr>\n",
              "  </tbody>\n",
              "</table>\n",
              "</div>"
            ],
            "text/plain": [
              "   vidid  adview    views  likes  ...  comment  published  duration  category\n",
              "0   5912      40  1031602   8523  ...     1095       2168      2925         6\n",
              "1   2741       2     1707     56  ...        6       2185      3040         4\n",
              "2   8138       1     2023     25  ...        2       2094      1863         3\n",
              "3   9004       6   620860    777  ...      153       2119      2546         8\n",
              "4    122       1      666      1  ...        0       2091      1963         4\n",
              "\n",
              "[5 rows x 9 columns]"
            ]
          },
          "metadata": {
            "tags": []
          },
          "execution_count": 225
        }
      ]
    },
    {
      "cell_type": "code",
      "metadata": {
        "colab": {
          "base_uri": "https://localhost:8080/",
          "height": 203
        },
        "id": "x85xTpmmhyY9",
        "outputId": "0970f705-9922-4f18-993d-3e54a4916486"
      },
      "source": [
        "import datetime\n",
        "import time\n",
        "def checki(x):\n",
        "  y=x[2:]\n",
        "  h = ''\n",
        "  m = ''\n",
        "  s = ''\n",
        "  mm = ''\n",
        "  P = ['H','M','S']\n",
        "  for i in y:\n",
        "    if i not in P:\n",
        "      mm+=i\n",
        "    else:\n",
        "      if(i==\"H\"):\n",
        "        h = mm\n",
        "        mm = ''\n",
        "      elif(i == \"M\"):\n",
        "        m = mm\n",
        "        mm = ''\n",
        "      else:\n",
        "        s = mm\n",
        "        mm = ''\n",
        "  if(h==''):\n",
        "    h = '00'\n",
        "  if(m == ''):\n",
        "    m = '00'\n",
        "  if(s==''):\n",
        "    s='00'\n",
        "  bp = h+':'+m+':'+s\n",
        "  return bp\n",
        "train=pd.read_csv(\"train.csv\")\n",
        "mp = pd.read_csv(\"train.csv\")[\"duration\"]\n",
        "time = mp.apply(checki)\n",
        "def func_sec(time_string):\n",
        "  h, m, s = time_string.split(':')\n",
        "  return int(h) * 3600 + int(m) * 60 + int(s)\n",
        "time1=time.apply(func_sec)\n",
        "data_train[\"duration\"]=time1\n",
        "data_train.head()\n",
        " "
      ],
      "execution_count": null,
      "outputs": [
        {
          "output_type": "execute_result",
          "data": {
            "text/html": [
              "<div>\n",
              "<style scoped>\n",
              "    .dataframe tbody tr th:only-of-type {\n",
              "        vertical-align: middle;\n",
              "    }\n",
              "\n",
              "    .dataframe tbody tr th {\n",
              "        vertical-align: top;\n",
              "    }\n",
              "\n",
              "    .dataframe thead th {\n",
              "        text-align: right;\n",
              "    }\n",
              "</style>\n",
              "<table border=\"1\" class=\"dataframe\">\n",
              "  <thead>\n",
              "    <tr style=\"text-align: right;\">\n",
              "      <th></th>\n",
              "      <th>vidid</th>\n",
              "      <th>adview</th>\n",
              "      <th>views</th>\n",
              "      <th>likes</th>\n",
              "      <th>dislikes</th>\n",
              "      <th>comment</th>\n",
              "      <th>published</th>\n",
              "      <th>duration</th>\n",
              "      <th>category</th>\n",
              "    </tr>\n",
              "  </thead>\n",
              "  <tbody>\n",
              "    <tr>\n",
              "      <th>0</th>\n",
              "      <td>5912</td>\n",
              "      <td>40</td>\n",
              "      <td>1031602</td>\n",
              "      <td>8523</td>\n",
              "      <td>363</td>\n",
              "      <td>1095</td>\n",
              "      <td>2168</td>\n",
              "      <td>457</td>\n",
              "      <td>6</td>\n",
              "    </tr>\n",
              "    <tr>\n",
              "      <th>1</th>\n",
              "      <td>2741</td>\n",
              "      <td>2</td>\n",
              "      <td>1707</td>\n",
              "      <td>56</td>\n",
              "      <td>2</td>\n",
              "      <td>6</td>\n",
              "      <td>2185</td>\n",
              "      <td>570</td>\n",
              "      <td>4</td>\n",
              "    </tr>\n",
              "    <tr>\n",
              "      <th>2</th>\n",
              "      <td>8138</td>\n",
              "      <td>1</td>\n",
              "      <td>2023</td>\n",
              "      <td>25</td>\n",
              "      <td>0</td>\n",
              "      <td>2</td>\n",
              "      <td>2094</td>\n",
              "      <td>136</td>\n",
              "      <td>3</td>\n",
              "    </tr>\n",
              "    <tr>\n",
              "      <th>3</th>\n",
              "      <td>9004</td>\n",
              "      <td>6</td>\n",
              "      <td>620860</td>\n",
              "      <td>777</td>\n",
              "      <td>161</td>\n",
              "      <td>153</td>\n",
              "      <td>2119</td>\n",
              "      <td>262</td>\n",
              "      <td>8</td>\n",
              "    </tr>\n",
              "    <tr>\n",
              "      <th>4</th>\n",
              "      <td>122</td>\n",
              "      <td>1</td>\n",
              "      <td>666</td>\n",
              "      <td>1</td>\n",
              "      <td>0</td>\n",
              "      <td>0</td>\n",
              "      <td>2091</td>\n",
              "      <td>31</td>\n",
              "      <td>4</td>\n",
              "    </tr>\n",
              "  </tbody>\n",
              "</table>\n",
              "</div>"
            ],
            "text/plain": [
              "   vidid  adview    views  likes  ...  comment  published  duration  category\n",
              "0   5912      40  1031602   8523  ...     1095       2168       457         6\n",
              "1   2741       2     1707     56  ...        6       2185       570         4\n",
              "2   8138       1     2023     25  ...        2       2094       136         3\n",
              "3   9004       6   620860    777  ...      153       2119       262         8\n",
              "4    122       1      666      1  ...        0       2091        31         4\n",
              "\n",
              "[5 rows x 9 columns]"
            ]
          },
          "metadata": {
            "tags": []
          },
          "execution_count": 226
        }
      ]
    },
    {
      "cell_type": "code",
      "metadata": {
        "id": "TU4gptAqtiXG"
      },
      "source": [
        "corelation = data_train.corr()"
      ],
      "execution_count": null,
      "outputs": []
    },
    {
      "cell_type": "code",
      "metadata": {
        "colab": {
          "base_uri": "https://localhost:8080/",
          "height": 509
        },
        "id": "ZV2Tnr5Ltlf9",
        "outputId": "9ea68d5a-0e6f-4483-d357-f3a4aa140ac2"
      },
      "source": [
        "import seaborn as sns\n",
        "f, ax = plt.subplots(figsize=(9, 8))\n",
        "sns.heatmap(corelation, mask=np.zeros_like(corelation, dtype=np.bool), cmap=sns.diverging_palette(220, 10, as_cmap=True), square=True, annot=True)\n",
        "plt.show()"
      ],
      "execution_count": null,
      "outputs": [
        {
          "output_type": "display_data",
          "data": {
            "image/png": "[encoded data removed]",
            "text/plain": [
              "<Figure size 648x576 with 2 Axes>"
            ]
          },
          "metadata": {
            "tags": [],
            "needs_background": "light"
          }
        }
      ]
    },
    {
      "cell_type": "code",
      "metadata": {
        "colab": {
          "base_uri": "https://localhost:8080/",
          "height": 203
        },
        "id": "At5xycvljl4Y",
        "outputId": "42bda7a4-c767-4198-ec47-d12bfddffbf4"
      },
      "source": [
        "Y_train = pd.DataFrame(data = data_train.iloc[:, 1].values, columns = ['target'])\n",
        "data_train=data_train.drop([\"adview\"],axis=1)\n",
        "data_train=data_train.drop([\"vidid\"],axis=1)\n",
        "data_train.head()\n"
      ],
      "execution_count": null,
      "outputs": [
        {
          "output_type": "execute_result",
          "data": {
            "text/html": [
              "<div>\n",
              "<style scoped>\n",
              "    .dataframe tbody tr th:only-of-type {\n",
              "        vertical-align: middle;\n",
              "    }\n",
              "\n",
              "    .dataframe tbody tr th {\n",
              "        vertical-align: top;\n",
              "    }\n",
              "\n",
              "    .dataframe thead th {\n",
              "        text-align: right;\n",
              "    }\n",
              "</style>\n",
              "<table border=\"1\" class=\"dataframe\">\n",
              "  <thead>\n",
              "    <tr style=\"text-align: right;\">\n",
              "      <th></th>\n",
              "      <th>views</th>\n",
              "      <th>likes</th>\n",
              "      <th>dislikes</th>\n",
              "      <th>comment</th>\n",
              "      <th>published</th>\n",
              "      <th>duration</th>\n",
              "      <th>category</th>\n",
              "    </tr>\n",
              "  </thead>\n",
              "  <tbody>\n",
              "    <tr>\n",
              "      <th>0</th>\n",
              "      <td>1031602</td>\n",
              "      <td>8523</td>\n",
              "      <td>363</td>\n",
              "      <td>1095</td>\n",
              "      <td>2168</td>\n",
              "      <td>457</td>\n",
              "      <td>6</td>\n",
              "    </tr>\n",
              "    <tr>\n",
              "      <th>1</th>\n",
              "      <td>1707</td>\n",
              "      <td>56</td>\n",
              "      <td>2</td>\n",
              "      <td>6</td>\n",
              "      <td>2185</td>\n",
              "      <td>570</td>\n",
              "      <td>4</td>\n",
              "    </tr>\n",
              "    <tr>\n",
              "      <th>2</th>\n",
              "      <td>2023</td>\n",
              "      <td>25</td>\n",
              "      <td>0</td>\n",
              "      <td>2</td>\n",
              "      <td>2094</td>\n",
              "      <td>136</td>\n",
              "      <td>3</td>\n",
              "    </tr>\n",
              "    <tr>\n",
              "      <th>3</th>\n",
              "      <td>620860</td>\n",
              "      <td>777</td>\n",
              "      <td>161</td>\n",
              "      <td>153</td>\n",
              "      <td>2119</td>\n",
              "      <td>262</td>\n",
              "      <td>8</td>\n",
              "    </tr>\n",
              "    <tr>\n",
              "      <th>4</th>\n",
              "      <td>666</td>\n",
              "      <td>1</td>\n",
              "      <td>0</td>\n",
              "      <td>0</td>\n",
              "      <td>2091</td>\n",
              "      <td>31</td>\n",
              "      <td>4</td>\n",
              "    </tr>\n",
              "  </tbody>\n",
              "</table>\n",
              "</div>"
            ],
            "text/plain": [
              "     views  likes  dislikes  comment  published  duration  category\n",
              "0  1031602   8523       363     1095       2168       457         6\n",
              "1     1707     56         2        6       2185       570         4\n",
              "2     2023     25         0        2       2094       136         3\n",
              "3   620860    777       161      153       2119       262         8\n",
              "4      666      1         0        0       2091        31         4"
            ]
          },
          "metadata": {
            "tags": []
          },
          "execution_count": 229
        }
      ]
    },
    {
      "cell_type": "code",
      "metadata": {
        "colab": {
          "base_uri": "https://localhost:8080/",
          "height": 417
        },
        "id": "nTQqsKpQtup1",
        "outputId": "e6db851b-2a29-48c7-b0ac-da5986f040cf"
      },
      "source": [
        "data_train.iloc[:,-2:8]\n",
        "data_train.iloc[:,2:8].values\n",
        "data_train=data_train.dropna()\n",
        "data_train"
      ],
      "execution_count": null,
      "outputs": [
        {
          "output_type": "execute_result",
          "data": {
            "text/html": [
              "<div>\n",
              "<style scoped>\n",
              "    .dataframe tbody tr th:only-of-type {\n",
              "        vertical-align: middle;\n",
              "    }\n",
              "\n",
              "    .dataframe tbody tr th {\n",
              "        vertical-align: top;\n",
              "    }\n",
              "\n",
              "    .dataframe thead th {\n",
              "        text-align: right;\n",
              "    }\n",
              "</style>\n",
              "<table border=\"1\" class=\"dataframe\">\n",
              "  <thead>\n",
              "    <tr style=\"text-align: right;\">\n",
              "      <th></th>\n",
              "      <th>views</th>\n",
              "      <th>likes</th>\n",
              "      <th>dislikes</th>\n",
              "      <th>comment</th>\n",
              "      <th>published</th>\n",
              "      <th>duration</th>\n",
              "      <th>category</th>\n",
              "    </tr>\n",
              "  </thead>\n",
              "  <tbody>\n",
              "    <tr>\n",
              "      <th>0</th>\n",
              "      <td>1031602</td>\n",
              "      <td>8523</td>\n",
              "      <td>363</td>\n",
              "      <td>1095</td>\n",
              "      <td>2168</td>\n",
              "      <td>457</td>\n",
              "      <td>6</td>\n",
              "    </tr>\n",
              "    <tr>\n",
              "      <th>1</th>\n",
              "      <td>1707</td>\n",
              "      <td>56</td>\n",
              "      <td>2</td>\n",
              "      <td>6</td>\n",
              "      <td>2185</td>\n",
              "      <td>570</td>\n",
              "      <td>4</td>\n",
              "    </tr>\n",
              "    <tr>\n",
              "      <th>2</th>\n",
              "      <td>2023</td>\n",
              "      <td>25</td>\n",
              "      <td>0</td>\n",
              "      <td>2</td>\n",
              "      <td>2094</td>\n",
              "      <td>136</td>\n",
              "      <td>3</td>\n",
              "    </tr>\n",
              "    <tr>\n",
              "      <th>3</th>\n",
              "      <td>620860</td>\n",
              "      <td>777</td>\n",
              "      <td>161</td>\n",
              "      <td>153</td>\n",
              "      <td>2119</td>\n",
              "      <td>262</td>\n",
              "      <td>8</td>\n",
              "    </tr>\n",
              "    <tr>\n",
              "      <th>4</th>\n",
              "      <td>666</td>\n",
              "      <td>1</td>\n",
              "      <td>0</td>\n",
              "      <td>0</td>\n",
              "      <td>2091</td>\n",
              "      <td>31</td>\n",
              "      <td>4</td>\n",
              "    </tr>\n",
              "    <tr>\n",
              "      <th>...</th>\n",
              "      <td>...</td>\n",
              "      <td>...</td>\n",
              "      <td>...</td>\n",
              "      <td>...</td>\n",
              "      <td>...</td>\n",
              "      <td>...</td>\n",
              "      <td>...</td>\n",
              "    </tr>\n",
              "    <tr>\n",
              "      <th>14994</th>\n",
              "      <td>525949</td>\n",
              "      <td>1137</td>\n",
              "      <td>83</td>\n",
              "      <td>86</td>\n",
              "      <td>1683</td>\n",
              "      <td>370</td>\n",
              "      <td>1</td>\n",
              "    </tr>\n",
              "    <tr>\n",
              "      <th>14995</th>\n",
              "      <td>665673</td>\n",
              "      <td>3849</td>\n",
              "      <td>156</td>\n",
              "      <td>569</td>\n",
              "      <td>1838</td>\n",
              "      <td>236</td>\n",
              "      <td>4</td>\n",
              "    </tr>\n",
              "    <tr>\n",
              "      <th>14996</th>\n",
              "      <td>3479</td>\n",
              "      <td>16</td>\n",
              "      <td>1</td>\n",
              "      <td>1</td>\n",
              "      <td>1053</td>\n",
              "      <td>193</td>\n",
              "      <td>2</td>\n",
              "    </tr>\n",
              "    <tr>\n",
              "      <th>14997</th>\n",
              "      <td>963</td>\n",
              "      <td>0</td>\n",
              "      <td>0</td>\n",
              "      <td>0</td>\n",
              "      <td>222</td>\n",
              "      <td>26</td>\n",
              "      <td>7</td>\n",
              "    </tr>\n",
              "    <tr>\n",
              "      <th>14998</th>\n",
              "      <td>15212</td>\n",
              "      <td>22</td>\n",
              "      <td>5</td>\n",
              "      <td>4</td>\n",
              "      <td>1960</td>\n",
              "      <td>61</td>\n",
              "      <td>4</td>\n",
              "    </tr>\n",
              "  </tbody>\n",
              "</table>\n",
              "<p>14636 rows × 7 columns</p>\n",
              "</div>"
            ],
            "text/plain": [
              "         views  likes  dislikes  comment  published  duration  category\n",
              "0      1031602   8523       363     1095       2168       457         6\n",
              "1         1707     56         2        6       2185       570         4\n",
              "2         2023     25         0        2       2094       136         3\n",
              "3       620860    777       161      153       2119       262         8\n",
              "4          666      1         0        0       2091        31         4\n",
              "...        ...    ...       ...      ...        ...       ...       ...\n",
              "14994   525949   1137        83       86       1683       370         1\n",
              "14995   665673   3849       156      569       1838       236         4\n",
              "14996     3479     16         1        1       1053       193         2\n",
              "14997      963      0         0        0        222        26         7\n",
              "14998    15212     22         5        4       1960        61         4\n",
              "\n",
              "[14636 rows x 7 columns]"
            ]
          },
          "metadata": {
            "tags": []
          },
          "execution_count": 230
        }
      ]
    },
    {
      "cell_type": "code",
      "metadata": {
        "colab": {
          "base_uri": "https://localhost:8080/"
        },
        "id": "YLpERb97jzm6",
        "outputId": "6c3f2485-56d9-4bfc-8ecf-5564c47133b1"
      },
      "source": [
        "from sklearn.model_selection import train_test_split\n",
        "X_train, X_test, y_train, y_test = train_test_split(data_train, Y_train, test_size=0.2, random_state=42)\n",
        "X_train.shape"
      ],
      "execution_count": null,
      "outputs": [
        {
          "output_type": "execute_result",
          "data": {
            "text/plain": [
              "(11708, 7)"
            ]
          },
          "metadata": {
            "tags": []
          },
          "execution_count": 231
        }
      ]
    },
    {
      "cell_type": "code",
      "metadata": {
        "id": "f9lz_7VdvCdV"
      },
      "source": [],
      "execution_count": null,
      "outputs": []
    },
    {
      "cell_type": "code",
      "metadata": {
        "colab": {
          "base_uri": "https://localhost:8080/"
        },
        "id": "6tDSh_7Vj2HI",
        "outputId": "1a22f14a-c6f5-4031-a7c0-571f472bc45f"
      },
      "source": [
        "from sklearn.preprocessing import MinMaxScaler\n",
        "scaler = MinMaxScaler()\n",
        "X_train=scaler.fit_transform(X_train)\n",
        "X_test=scaler.fit_transform(X_test)\n",
        "X_train.mean()"
      ],
      "execution_count": null,
      "outputs": [
        {
          "output_type": "execute_result",
          "data": {
            "text/plain": [
              "0.1739096800320488"
            ]
          },
          "metadata": {
            "tags": []
          },
          "execution_count": 232
        }
      ]
    },
    {
      "cell_type": "code",
      "metadata": {
        "id": "2DuvSGOlkIw4"
      },
      "source": [
        "from sklearn import metrics\n",
        "mae=[0,0,0,0,0]\n",
        "mse=[0,0,0,0,0]\n",
        "rmse=[0,0,0,0,0]\n",
        "def print_error(x_test, y_test, model_name):\n",
        "  prediction = model_name.predict(x_test)\n",
        "  a=metrics.mean_absolute_error(y_test, prediction)\n",
        "  b=metrics.mean_squared_error(y_test, prediction)\n",
        "  c=np.sqrt(b)\n",
        "  print('Mean Absolute Error:', a)\n",
        "  print('Mean Squared Error:', b)\n",
        "  print('Root Mean Squared Error:', c)\n",
        "  plt.figure(figsize=(10, 15))\n",
        "  plt.scatter(range(len(prediction)), prediction, color='red', s=1)\n",
        "  plt.scatter(range(len(y_test)), y_test, color='green', s=1)\n",
        "  plt.show()\n",
        "  return ([a,b,c])\n"
      ],
      "execution_count": null,
      "outputs": []
    },
    {
      "cell_type": "code",
      "metadata": {
        "colab": {
          "base_uri": "https://localhost:8080/",
          "height": 925
        },
        "id": "lbpEATEXkaf4",
        "outputId": "fc9889e5-9e86-4c16-890a-d62a8a889088"
      },
      "source": [
        "from sklearn import linear_model\n",
        "linear_regression = linear_model.LinearRegression()\n",
        "linear_regression.fit(X_train, y_train)\n",
        "mae[0],mse[0],rmse[0]=print_error(X_test,y_test, linear_regression)"
      ],
      "execution_count": null,
      "outputs": [
        {
          "output_type": "stream",
          "text": [
            "Mean Absolute Error: 3707.378005824532\n",
            "Mean Squared Error: 835663131.1210337\n",
            "Root Mean Squared Error: 28907.83857573986\n"
          ],
          "name": "stdout"
        },
        {
          "output_type": "display_data",
          "data": {
            "image/png": "[encoded data removed]",
            "text/plain": [
              "<Figure size 720x1080 with 1 Axes>"
            ]
          },
          "metadata": {
            "tags": [],
            "needs_background": "light"
          }
        }
      ]
    },
    {
      "cell_type": "code",
      "metadata": {
        "colab": {
          "base_uri": "https://localhost:8080/",
          "height": 925
        },
        "id": "P0HBIkqGvwjX",
        "outputId": "79930a1f-6c18-4d48-f190-b1262139ba28"
      },
      "source": [
        "from sklearn.svm import SVR\n",
        "supportvector_regressor = SVR()\n",
        "supportvector_regressor.fit(X_train,y_train.values.ravel())\n",
        "mae[1],mse[1],rmse[1]=print_error(X_test,y_test, supportvector_regressor)"
      ],
      "execution_count": null,
      "outputs": [
        {
          "output_type": "stream",
          "text": [
            "Mean Absolute Error: 1696.9438599505638\n",
            "Mean Squared Error: 833685776.029172\n",
            "Root Mean Squared Error: 28873.617300732723\n"
          ],
          "name": "stdout"
        },
        {
          "output_type": "display_data",
          "data": {
            "image/png": "[encoded data removed]",
            "text/plain": [
              "<Figure size 720x1080 with 1 Axes>"
            ]
          },
          "metadata": {
            "tags": [],
            "needs_background": "light"
          }
        }
      ]
    },
    {
      "cell_type": "code",
      "metadata": {
        "colab": {
          "base_uri": "https://localhost:8080/",
          "height": 925
        },
        "id": "_Bv34g29m3hG",
        "outputId": "1ffe6801-a94a-46cd-9696-62ad6afe0993"
      },
      "source": [
        "from sklearn.tree import DecisionTreeRegressor\n",
        "decision_tree = DecisionTreeRegressor()\n",
        "decision_tree.fit(X_train, y_train)\n",
        "mae[2],mse[2],rmse[2]=print_error(X_test,y_test, decision_tree)"
      ],
      "execution_count": null,
      "outputs": [
        {
          "output_type": "stream",
          "text": [
            "Mean Absolute Error: 2942.3381147540986\n",
            "Mean Squared Error: 1212384107.8005464\n",
            "Root Mean Squared Error: 34819.306538191515\n"
          ],
          "name": "stdout"
        },
        {
          "output_type": "display_data",
          "data": {
            "image/png": "[encoded data removed]",
            "text/plain": [
              "<Figure size 720x1080 with 1 Axes>"
            ]
          },
          "metadata": {
            "tags": [],
            "needs_background": "light"
          }
        }
      ]
    },
    {
      "cell_type": "code",
      "metadata": {
        "colab": {
          "base_uri": "https://localhost:8080/",
          "height": 925
        },
        "id": "Lrvg3arunNs6",
        "outputId": "f8c0309a-5a02-4c51-faee-eddf23b9e60e"
      },
      "source": [
        "from sklearn.ensemble import RandomForestRegressor\n",
        "n_estimators = 200\n",
        "max_depth = 25\n",
        "min_samples_split = 15\n",
        "min_samples_leaf = 2\n",
        "random_forest = RandomForestRegressor(n_estimators = n_estimators , max_depth = max_depth, min_samples_split =  min_samples_split  , min_samples_leaf = min_samples_leaf )\n",
        "random_forest.fit(X_train,y_train.values.ravel())\n",
        "mae[3],mse[3],rmse[3]=print_error(X_test,y_test, random_forest)"
      ],
      "execution_count": null,
      "outputs": [
        {
          "output_type": "stream",
          "text": [
            "Mean Absolute Error: 3372.438471272446\n",
            "Mean Squared Error: 700124447.8466932\n",
            "Root Mean Squared Error: 26459.8648493656\n"
          ],
          "name": "stdout"
        },
        {
          "output_type": "display_data",
          "data": {
            "image/png": "[encoded data removed]",
            "text/plain": [
              "<Figure size 720x1080 with 1 Axes>"
            ]
          },
          "metadata": {
            "tags": [],
            "needs_background": "light"
          }
        }
      ]
    },
    {
      "cell_type": "code",
      "metadata": {
        "colab": {
          "base_uri": "https://localhost:8080/",
          "height": 1000
        },
        "id": "0OwkOsoYo-tt",
        "outputId": "3146bb86-6b46-49c6-982b-6a78ef0551da"
      },
      "source": [
        "import keras\n",
        "from keras.layers import Dense\n",
        "ann = keras.models.Sequential([\n",
        "Dense(6, activation=\"relu\",\n",
        "input_shape=X_train.shape[1:]),\n",
        "Dense(6,activation=\"relu\"),\n",
        "Dense(1)\n",
        "])\n",
        "optimizer=keras.optimizers.Adam()\n",
        "loss=keras.losses.mean_squared_error\n",
        "ann.compile(optimizer=optimizer,loss=loss,metrics=[\"mean_squared_error\"])\n",
        "history=ann.fit(X_train,y_train,epochs=100)\n",
        "ann.summary()\n",
        "mae[4],mse[4],rmse[4]=print_error(X_test,y_test,ann)"
      ],
      "execution_count": null,
      "outputs": [
        {
          "output_type": "stream",
          "text": [
            "Epoch 1/100\n",
            "366/366 [==============================] - 1s 1ms/step - loss: 576958537.3488 - mean_squared_error: 576958537.3488\n",
            "Epoch 2/100\n",
            "366/366 [==============================] - 0s 1ms/step - loss: 631800606.6076 - mean_squared_error: 631800606.6076\n",
            "Epoch 3/100\n",
            "366/366 [==============================] - 0s 1ms/step - loss: 364844520.5594 - mean_squared_error: 364844520.5594\n",
            "Epoch 4/100\n",
            "366/366 [==============================] - 0s 1ms/step - loss: 566502782.5845 - mean_squared_error: 566502782.5845\n",
            "Epoch 5/100\n",
            "366/366 [==============================] - 0s 1ms/step - loss: 420850321.3351 - mean_squared_error: 420850321.3351\n",
            "Epoch 6/100\n",
            "366/366 [==============================] - 0s 1ms/step - loss: 1132545630.9382 - mean_squared_error: 1132545630.9382\n",
            "Epoch 7/100\n",
            "366/366 [==============================] - 0s 1ms/step - loss: 506565101.3500 - mean_squared_error: 506565101.3500\n",
            "Epoch 8/100\n",
            "366/366 [==============================] - 0s 1ms/step - loss: 1085036701.4906 - mean_squared_error: 1085036701.4906\n",
            "Epoch 9/100\n",
            "366/366 [==============================] - 0s 1ms/step - loss: 458924528.3444 - mean_squared_error: 458924528.3444\n",
            "Epoch 10/100\n",
            "366/366 [==============================] - 0s 1ms/step - loss: 709922250.0436 - mean_squared_error: 709922250.0436\n",
            "Epoch 11/100\n",
            "366/366 [==============================] - 0s 1ms/step - loss: 482011067.1148 - mean_squared_error: 482011067.1148\n",
            "Epoch 12/100\n",
            "366/366 [==============================] - 0s 1ms/step - loss: 627192538.6935 - mean_squared_error: 627192538.6935\n",
            "Epoch 13/100\n",
            "366/366 [==============================] - 1s 1ms/step - loss: 750182538.0708 - mean_squared_error: 750182538.0708\n",
            "Epoch 14/100\n",
            "366/366 [==============================] - 0s 1ms/step - loss: 472364450.4196 - mean_squared_error: 472364450.4196\n",
            "Epoch 15/100\n",
            "366/366 [==============================] - 0s 1ms/step - loss: 1253920022.5562 - mean_squared_error: 1253920022.5562\n",
            "Epoch 16/100\n",
            "366/366 [==============================] - 0s 1ms/step - loss: 1333674827.9113 - mean_squared_error: 1333674827.9113\n",
            "Epoch 17/100\n",
            "366/366 [==============================] - 0s 1ms/step - loss: 371642066.4128 - mean_squared_error: 371642066.4128\n",
            "Epoch 18/100\n",
            "366/366 [==============================] - 0s 1ms/step - loss: 682596485.7824 - mean_squared_error: 682596485.7824\n",
            "Epoch 19/100\n",
            "366/366 [==============================] - 0s 1ms/step - loss: 556407572.7616 - mean_squared_error: 556407572.7616\n",
            "Epoch 20/100\n",
            "366/366 [==============================] - 0s 1ms/step - loss: 547899830.7749 - mean_squared_error: 547899830.7749\n",
            "Epoch 21/100\n",
            "366/366 [==============================] - 0s 1ms/step - loss: 2109942426.8556 - mean_squared_error: 2109942426.8556\n",
            "Epoch 22/100\n",
            "366/366 [==============================] - 0s 1ms/step - loss: 1351937883.2044 - mean_squared_error: 1351937883.2044\n",
            "Epoch 23/100\n",
            "366/366 [==============================] - 0s 1ms/step - loss: 917711582.6921 - mean_squared_error: 917711582.6921\n",
            "Epoch 24/100\n",
            "366/366 [==============================] - 0s 1ms/step - loss: 823947960.2153 - mean_squared_error: 823947960.2153\n",
            "Epoch 25/100\n",
            "366/366 [==============================] - 0s 1ms/step - loss: 404211087.1339 - mean_squared_error: 404211087.1339\n",
            "Epoch 26/100\n",
            "366/366 [==============================] - 0s 1ms/step - loss: 449657176.7112 - mean_squared_error: 449657176.7112\n",
            "Epoch 27/100\n",
            "366/366 [==============================] - 0s 1ms/step - loss: 781702139.5470 - mean_squared_error: 781702139.5470\n",
            "Epoch 28/100\n",
            "366/366 [==============================] - 0s 1ms/step - loss: 1001298941.1465 - mean_squared_error: 1001298941.1465\n",
            "Epoch 29/100\n",
            "366/366 [==============================] - 0s 1ms/step - loss: 996620450.7016 - mean_squared_error: 996620450.7016\n",
            "Epoch 30/100\n",
            "366/366 [==============================] - 0s 1ms/step - loss: 363618037.1015 - mean_squared_error: 363618037.1015\n",
            "Epoch 31/100\n",
            "366/366 [==============================] - 0s 1ms/step - loss: 946711204.8610 - mean_squared_error: 946711204.8610\n",
            "Epoch 32/100\n",
            "366/366 [==============================] - 0s 1ms/step - loss: 725869709.4564 - mean_squared_error: 725869709.4564\n",
            "Epoch 33/100\n",
            "366/366 [==============================] - 0s 1ms/step - loss: 787776640.9080 - mean_squared_error: 787776640.9080\n",
            "Epoch 34/100\n",
            "366/366 [==============================] - 0s 1ms/step - loss: 1325079271.5531 - mean_squared_error: 1325079271.5531\n",
            "Epoch 35/100\n",
            "366/366 [==============================] - 0s 1ms/step - loss: 461495113.9673 - mean_squared_error: 461495113.9673\n",
            "Epoch 36/100\n",
            "366/366 [==============================] - 0s 1ms/step - loss: 473925205.2541 - mean_squared_error: 473925205.2541\n",
            "Epoch 37/100\n",
            "366/366 [==============================] - 0s 1ms/step - loss: 480744990.7520 - mean_squared_error: 480744990.7520\n",
            "Epoch 38/100\n",
            "366/366 [==============================] - 0s 1ms/step - loss: 900789192.3406 - mean_squared_error: 900789192.3406\n",
            "Epoch 39/100\n",
            "366/366 [==============================] - 0s 1ms/step - loss: 530500717.0960 - mean_squared_error: 530500717.0960\n",
            "Epoch 40/100\n",
            "366/366 [==============================] - 0s 1ms/step - loss: 927940447.5743 - mean_squared_error: 927940447.5743\n",
            "Epoch 41/100\n",
            "366/366 [==============================] - 0s 1ms/step - loss: 532634056.7772 - mean_squared_error: 532634056.7772\n",
            "Epoch 42/100\n",
            "366/366 [==============================] - 0s 1ms/step - loss: 431657816.8515 - mean_squared_error: 431657816.8515\n",
            "Epoch 43/100\n",
            "366/366 [==============================] - 1s 1ms/step - loss: 819000652.0327 - mean_squared_error: 819000652.0327\n",
            "Epoch 44/100\n",
            "366/366 [==============================] - 1s 1ms/step - loss: 1044880285.0381 - mean_squared_error: 1044880285.0381\n",
            "Epoch 45/100\n",
            "366/366 [==============================] - 0s 1ms/step - loss: 1392044646.4510 - mean_squared_error: 1392044646.4510\n",
            "Epoch 46/100\n",
            "366/366 [==============================] - 1s 1ms/step - loss: 1032847481.3106 - mean_squared_error: 1032847481.3106\n",
            "Epoch 47/100\n",
            "366/366 [==============================] - 0s 1ms/step - loss: 831215387.5640 - mean_squared_error: 831215387.5640\n",
            "Epoch 48/100\n",
            "366/366 [==============================] - 0s 1ms/step - loss: 767583914.1792 - mean_squared_error: 767583914.1792\n",
            "Epoch 49/100\n",
            "366/366 [==============================] - 0s 1ms/step - loss: 702840184.2616 - mean_squared_error: 702840184.2616\n",
            "Epoch 50/100\n",
            "366/366 [==============================] - 0s 1ms/step - loss: 694088359.2248 - mean_squared_error: 694088359.2248\n",
            "Epoch 51/100\n",
            "366/366 [==============================] - 0s 1ms/step - loss: 1588355860.9264 - mean_squared_error: 1588355860.9264\n",
            "Epoch 52/100\n",
            "366/366 [==============================] - 0s 1ms/step - loss: 717560485.7084 - mean_squared_error: 717560485.7084\n",
            "Epoch 53/100\n",
            "366/366 [==============================] - 0s 1ms/step - loss: 698376647.5654 - mean_squared_error: 698376647.5654\n",
            "Epoch 54/100\n",
            "366/366 [==============================] - 0s 1ms/step - loss: 1596751433.2847 - mean_squared_error: 1596751433.2847\n",
            "Epoch 55/100\n",
            "366/366 [==============================] - 0s 1ms/step - loss: 764777334.7575 - mean_squared_error: 764777334.7575\n",
            "Epoch 56/100\n",
            "366/366 [==============================] - 1s 1ms/step - loss: 250495472.6076 - mean_squared_error: 250495472.6076\n",
            "Epoch 57/100\n",
            "366/366 [==============================] - 0s 1ms/step - loss: 642634329.4659 - mean_squared_error: 642634329.4659\n",
            "Epoch 58/100\n",
            "366/366 [==============================] - 0s 1ms/step - loss: 1207946928.2561 - mean_squared_error: 1207946928.2561\n",
            "Epoch 59/100\n",
            "366/366 [==============================] - 0s 1ms/step - loss: 917463572.6417 - mean_squared_error: 917463572.6417\n",
            "Epoch 60/100\n",
            "366/366 [==============================] - 0s 1ms/step - loss: 733377798.5484 - mean_squared_error: 733377798.5484\n",
            "Epoch 61/100\n",
            "366/366 [==============================] - 0s 1ms/step - loss: 927008040.6485 - mean_squared_error: 927008040.6485\n",
            "Epoch 62/100\n",
            "366/366 [==============================] - 0s 1ms/step - loss: 605403117.5061 - mean_squared_error: 605403117.5061\n",
            "Epoch 63/100\n",
            "366/366 [==============================] - 0s 1ms/step - loss: 715042333.7548 - mean_squared_error: 715042333.7548\n",
            "Epoch 64/100\n",
            "366/366 [==============================] - 0s 1ms/step - loss: 739059709.3297 - mean_squared_error: 739059709.3297\n",
            "Epoch 65/100\n",
            "366/366 [==============================] - 0s 1ms/step - loss: 1024804006.4305 - mean_squared_error: 1024804006.4305\n",
            "Epoch 66/100\n",
            "366/366 [==============================] - 0s 1ms/step - loss: 330021493.8781 - mean_squared_error: 330021493.8781\n",
            "Epoch 67/100\n",
            "366/366 [==============================] - 0s 1ms/step - loss: 1246817438.5068 - mean_squared_error: 1246817438.5068\n",
            "Epoch 68/100\n",
            "366/366 [==============================] - 0s 1ms/step - loss: 463595132.8481 - mean_squared_error: 463595132.8481\n",
            "Epoch 69/100\n",
            "366/366 [==============================] - 0s 1ms/step - loss: 595474297.5095 - mean_squared_error: 595474297.5095\n",
            "Epoch 70/100\n",
            "366/366 [==============================] - 0s 1ms/step - loss: 774421325.3290 - mean_squared_error: 774421325.3290\n",
            "Epoch 71/100\n",
            "366/366 [==============================] - 0s 1ms/step - loss: 435522476.9421 - mean_squared_error: 435522476.9421\n",
            "Epoch 72/100\n",
            "366/366 [==============================] - 0s 1ms/step - loss: 912082395.3542 - mean_squared_error: 912082395.3542\n",
            "Epoch 73/100\n",
            "366/366 [==============================] - 0s 1ms/step - loss: 419014186.5572 - mean_squared_error: 419014186.5572\n",
            "Epoch 74/100\n",
            "366/366 [==============================] - 0s 1ms/step - loss: 997710105.3297 - mean_squared_error: 997710105.3297\n",
            "Epoch 75/100\n",
            "366/366 [==============================] - 0s 1ms/step - loss: 1150388214.8801 - mean_squared_error: 1150388214.8801\n",
            "Epoch 76/100\n",
            "366/366 [==============================] - 0s 1ms/step - loss: 604127360.9033 - mean_squared_error: 604127360.9033\n",
            "Epoch 77/100\n",
            "366/366 [==============================] - 0s 1ms/step - loss: 1478612652.1199 - mean_squared_error: 1478612652.1199\n",
            "Epoch 78/100\n",
            "366/366 [==============================] - 0s 1ms/step - loss: 640404864.6723 - mean_squared_error: 640404864.6723\n",
            "Epoch 79/100\n",
            "366/366 [==============================] - 0s 1ms/step - loss: 761847833.8093 - mean_squared_error: 761847833.8093\n",
            "Epoch 80/100\n",
            "366/366 [==============================] - 0s 1ms/step - loss: 677209209.4033 - mean_squared_error: 677209209.4033\n",
            "Epoch 81/100\n",
            "366/366 [==============================] - 0s 1ms/step - loss: 436153472.9244 - mean_squared_error: 436153472.9244\n",
            "Epoch 82/100\n",
            "366/366 [==============================] - 0s 1ms/step - loss: 599878880.2275 - mean_squared_error: 599878880.2275\n",
            "Epoch 83/100\n",
            "366/366 [==============================] - 0s 1ms/step - loss: 661625610.1580 - mean_squared_error: 661625610.1580\n",
            "Epoch 84/100\n",
            "366/366 [==============================] - 0s 1ms/step - loss: 728358358.1253 - mean_squared_error: 728358358.1253\n",
            "Epoch 85/100\n",
            "366/366 [==============================] - 0s 1ms/step - loss: 453801799.5422 - mean_squared_error: 453801799.5422\n",
            "Epoch 86/100\n",
            "366/366 [==============================] - 0s 1ms/step - loss: 269519681.6601 - mean_squared_error: 269519681.6601\n",
            "Epoch 87/100\n",
            "366/366 [==============================] - 0s 1ms/step - loss: 513236560.7984 - mean_squared_error: 513236560.7984\n",
            "Epoch 88/100\n",
            "366/366 [==============================] - 0s 1ms/step - loss: 557153516.6526 - mean_squared_error: 557153516.6526\n",
            "Epoch 89/100\n",
            "366/366 [==============================] - 0s 1ms/step - loss: 835685546.9441 - mean_squared_error: 835685546.9441\n",
            "Epoch 90/100\n",
            "366/366 [==============================] - 0s 1ms/step - loss: 873292453.3760 - mean_squared_error: 873292453.3760\n",
            "Epoch 91/100\n",
            "366/366 [==============================] - 0s 1ms/step - loss: 644452958.1301 - mean_squared_error: 644452958.1301\n",
            "Epoch 92/100\n",
            "366/366 [==============================] - 0s 1ms/step - loss: 2044954162.5722 - mean_squared_error: 2044954162.5722\n",
            "Epoch 93/100\n",
            "366/366 [==============================] - 0s 1ms/step - loss: 548110529.3474 - mean_squared_error: 548110529.3474\n",
            "Epoch 94/100\n",
            "366/366 [==============================] - 0s 1ms/step - loss: 1335641311.8256 - mean_squared_error: 1335641311.8256\n",
            "Epoch 95/100\n",
            "366/366 [==============================] - 0s 1ms/step - loss: 774950081.2275 - mean_squared_error: 774950081.2275\n",
            "Epoch 96/100\n",
            "366/366 [==============================] - 0s 1ms/step - loss: 406936274.4087 - mean_squared_error: 406936274.4087\n",
            "Epoch 97/100\n",
            "366/366 [==============================] - 0s 1ms/step - loss: 500620412.5858 - mean_squared_error: 500620412.5858\n",
            "Epoch 98/100\n",
            "366/366 [==============================] - 0s 1ms/step - loss: 779094269.8202 - mean_squared_error: 779094269.8202\n",
            "Epoch 99/100\n",
            "366/366 [==============================] - 0s 1ms/step - loss: 917605055.8147 - mean_squared_error: 917605055.8147\n",
            "Epoch 100/100\n",
            "366/366 [==============================] - 0s 1ms/step - loss: 539616761.0266 - mean_squared_error: 539616761.0266\n",
            "Model: \"sequential_2\"\n",
            "_________________________________________________________________\n",
            "Layer (type)                 Output Shape              Param #   \n",
            "=================================================================\n",
            "dense_6 (Dense)              (None, 6)                 48        \n",
            "_________________________________________________________________\n",
            "dense_7 (Dense)              (None, 6)                 42        \n",
            "_________________________________________________________________\n",
            "dense_8 (Dense)              (None, 1)                 7         \n",
            "=================================================================\n",
            "Total params: 97\n",
            "Trainable params: 97\n",
            "Non-trainable params: 0\n",
            "_________________________________________________________________\n",
            "Mean Absolute Error: 3306.963026840179\n",
            "Mean Squared Error: 829637474.6058156\n",
            "Root Mean Squared Error: 28803.428174538803\n"
          ],
          "name": "stdout"
        },
        {
          "output_type": "display_data",
          "data": {
            "image/png": "[encoded data removed]",
            "text/plain": [
              "<Figure size 720x1080 with 1 Axes>"
            ]
          },
          "metadata": {
            "tags": [],
            "needs_background": "light"
          }
        }
      ]
    },
    {
      "cell_type": "code",
      "metadata": {
        "colab": {
          "base_uri": "https://localhost:8080/",
          "height": 265
        },
        "id": "N83k3bvRpHG-",
        "outputId": "2f66aba6-11c8-48c0-993f-7c549de3a707"
      },
      "source": [
        "plt.plot([\"LinearRegression\",\"SVR\",\"DecisionTree\",\"RandomForest\",\"ANN\"],mae)\n",
        "plt.show()"
      ],
      "execution_count": null,
      "outputs": [
        {
          "output_type": "display_data",
          "data": {
            "image/png": "[encoded data removed]",
            "text/plain": [
              "<Figure size 432x288 with 1 Axes>"
            ]
          },
          "metadata": {
            "tags": [],
            "needs_background": "light"
          }
        }
      ]
    },
    {
      "cell_type": "code",
      "metadata": {
        "colab": {
          "base_uri": "https://localhost:8080/",
          "height": 276
        },
        "id": "KNpys9Ywwe5r",
        "outputId": "223c6336-5567-400e-9d84-9fa81a082871"
      },
      "source": [
        "plt.plot([\"LinearRegression\",\"SVR\",\"DecisionTree\",\"RandomForest\",\"ANN\"],mse)\n",
        "plt.show()"
      ],
      "execution_count": null,
      "outputs": [
        {
          "output_type": "display_data",
          "data": {
            "image/png": "[encoded data removed]",
            "text/plain": [
              "<Figure size 432x288 with 1 Axes>"
            ]
          },
          "metadata": {
            "tags": [],
            "needs_background": "light"
          }
        }
      ]
    },
    {
      "cell_type": "code",
      "metadata": {
        "id": "tgfvhdMvpapC"
      },
      "source": [
        "import joblib\n",
        "joblib.dump(supportvector_regressor, \"SVR_youtubeadview.pkl\")\n",
        "ann.save(\"ann_youtubeadview.h5\")"
      ],
      "execution_count": null,
      "outputs": []
    },
    {
      "cell_type": "code",
      "metadata": {
        "colab": {
          "base_uri": "https://localhost:8080/",
          "height": 417
        },
        "id": "ZsIhZJRupxal",
        "outputId": "c20fcced-347d-4d29-aedd-e16f05ff9584"
      },
      "source": [
        "test = pd.read_csv('train.csv')\n",
        "test"
      ],
      "execution_count": null,
      "outputs": [
        {
          "output_type": "execute_result",
          "data": {
            "text/html": [
              "<div>\n",
              "<style scoped>\n",
              "    .dataframe tbody tr th:only-of-type {\n",
              "        vertical-align: middle;\n",
              "    }\n",
              "\n",
              "    .dataframe tbody tr th {\n",
              "        vertical-align: top;\n",
              "    }\n",
              "\n",
              "    .dataframe thead th {\n",
              "        text-align: right;\n",
              "    }\n",
              "</style>\n",
              "<table border=\"1\" class=\"dataframe\">\n",
              "  <thead>\n",
              "    <tr style=\"text-align: right;\">\n",
              "      <th></th>\n",
              "      <th>vidid</th>\n",
              "      <th>adview</th>\n",
              "      <th>views</th>\n",
              "      <th>likes</th>\n",
              "      <th>dislikes</th>\n",
              "      <th>comment</th>\n",
              "      <th>published</th>\n",
              "      <th>duration</th>\n",
              "      <th>category</th>\n",
              "    </tr>\n",
              "  </thead>\n",
              "  <tbody>\n",
              "    <tr>\n",
              "      <th>0</th>\n",
              "      <td>VID_18655</td>\n",
              "      <td>40</td>\n",
              "      <td>1031602</td>\n",
              "      <td>8523</td>\n",
              "      <td>363</td>\n",
              "      <td>1095</td>\n",
              "      <td>2016-09-14</td>\n",
              "      <td>PT7M37S</td>\n",
              "      <td>F</td>\n",
              "    </tr>\n",
              "    <tr>\n",
              "      <th>1</th>\n",
              "      <td>VID_14135</td>\n",
              "      <td>2</td>\n",
              "      <td>1707</td>\n",
              "      <td>56</td>\n",
              "      <td>2</td>\n",
              "      <td>6</td>\n",
              "      <td>2016-10-01</td>\n",
              "      <td>PT9M30S</td>\n",
              "      <td>D</td>\n",
              "    </tr>\n",
              "    <tr>\n",
              "      <th>2</th>\n",
              "      <td>VID_2187</td>\n",
              "      <td>1</td>\n",
              "      <td>2023</td>\n",
              "      <td>25</td>\n",
              "      <td>0</td>\n",
              "      <td>2</td>\n",
              "      <td>2016-07-02</td>\n",
              "      <td>PT2M16S</td>\n",
              "      <td>C</td>\n",
              "    </tr>\n",
              "    <tr>\n",
              "      <th>3</th>\n",
              "      <td>VID_23096</td>\n",
              "      <td>6</td>\n",
              "      <td>620860</td>\n",
              "      <td>777</td>\n",
              "      <td>161</td>\n",
              "      <td>153</td>\n",
              "      <td>2016-07-27</td>\n",
              "      <td>PT4M22S</td>\n",
              "      <td>H</td>\n",
              "    </tr>\n",
              "    <tr>\n",
              "      <th>4</th>\n",
              "      <td>VID_10175</td>\n",
              "      <td>1</td>\n",
              "      <td>666</td>\n",
              "      <td>1</td>\n",
              "      <td>0</td>\n",
              "      <td>0</td>\n",
              "      <td>2016-06-29</td>\n",
              "      <td>PT31S</td>\n",
              "      <td>D</td>\n",
              "    </tr>\n",
              "    <tr>\n",
              "      <th>...</th>\n",
              "      <td>...</td>\n",
              "      <td>...</td>\n",
              "      <td>...</td>\n",
              "      <td>...</td>\n",
              "      <td>...</td>\n",
              "      <td>...</td>\n",
              "      <td>...</td>\n",
              "      <td>...</td>\n",
              "      <td>...</td>\n",
              "    </tr>\n",
              "    <tr>\n",
              "      <th>14994</th>\n",
              "      <td>VID_31</td>\n",
              "      <td>2</td>\n",
              "      <td>525949</td>\n",
              "      <td>1137</td>\n",
              "      <td>83</td>\n",
              "      <td>86</td>\n",
              "      <td>2015-05-18</td>\n",
              "      <td>PT6M10S</td>\n",
              "      <td>A</td>\n",
              "    </tr>\n",
              "    <tr>\n",
              "      <th>14995</th>\n",
              "      <td>VID_5861</td>\n",
              "      <td>1</td>\n",
              "      <td>665673</td>\n",
              "      <td>3849</td>\n",
              "      <td>156</td>\n",
              "      <td>569</td>\n",
              "      <td>2015-10-20</td>\n",
              "      <td>PT3M56S</td>\n",
              "      <td>D</td>\n",
              "    </tr>\n",
              "    <tr>\n",
              "      <th>14996</th>\n",
              "      <td>VID_805</td>\n",
              "      <td>4</td>\n",
              "      <td>3479</td>\n",
              "      <td>16</td>\n",
              "      <td>1</td>\n",
              "      <td>1</td>\n",
              "      <td>2013-08-23</td>\n",
              "      <td>PT3M13S</td>\n",
              "      <td>B</td>\n",
              "    </tr>\n",
              "    <tr>\n",
              "      <th>14997</th>\n",
              "      <td>VID_19843</td>\n",
              "      <td>1</td>\n",
              "      <td>963</td>\n",
              "      <td>0</td>\n",
              "      <td>0</td>\n",
              "      <td>0</td>\n",
              "      <td>2010-10-02</td>\n",
              "      <td>PT26S</td>\n",
              "      <td>G</td>\n",
              "    </tr>\n",
              "    <tr>\n",
              "      <th>14998</th>\n",
              "      <td>VID_8534</td>\n",
              "      <td>1</td>\n",
              "      <td>15212</td>\n",
              "      <td>22</td>\n",
              "      <td>5</td>\n",
              "      <td>4</td>\n",
              "      <td>2016-02-19</td>\n",
              "      <td>PT1M1S</td>\n",
              "      <td>D</td>\n",
              "    </tr>\n",
              "  </tbody>\n",
              "</table>\n",
              "<p>14999 rows × 9 columns</p>\n",
              "</div>"
            ],
            "text/plain": [
              "           vidid  adview    views likes  ... comment   published duration category\n",
              "0      VID_18655      40  1031602  8523  ...    1095  2016-09-14  PT7M37S        F\n",
              "1      VID_14135       2     1707    56  ...       6  2016-10-01  PT9M30S        D\n",
              "2       VID_2187       1     2023    25  ...       2  2016-07-02  PT2M16S        C\n",
              "3      VID_23096       6   620860   777  ...     153  2016-07-27  PT4M22S        H\n",
              "4      VID_10175       1      666     1  ...       0  2016-06-29    PT31S        D\n",
              "...          ...     ...      ...   ...  ...     ...         ...      ...      ...\n",
              "14994     VID_31       2   525949  1137  ...      86  2015-05-18  PT6M10S        A\n",
              "14995   VID_5861       1   665673  3849  ...     569  2015-10-20  PT3M56S        D\n",
              "14996    VID_805       4     3479    16  ...       1  2013-08-23  PT3M13S        B\n",
              "14997  VID_19843       1      963     0  ...       0  2010-10-02    PT26S        G\n",
              "14998   VID_8534       1    15212    22  ...       4  2016-02-19   PT1M1S        D\n",
              "\n",
              "[14999 rows x 9 columns]"
            ]
          },
          "metadata": {
            "tags": []
          },
          "execution_count": 242
        }
      ]
    },
    {
      "cell_type": "code",
      "metadata": {
        "colab": {
          "base_uri": "https://localhost:8080/",
          "height": 203
        },
        "id": "lru6_e8-rKVF",
        "outputId": "2c6b0ebe-6dee-4f4c-d6ea-15854a9f37b6"
      },
      "source": [
        "test.head()"
      ],
      "execution_count": null,
      "outputs": [
        {
          "output_type": "execute_result",
          "data": {
            "text/html": [
              "<div>\n",
              "<style scoped>\n",
              "    .dataframe tbody tr th:only-of-type {\n",
              "        vertical-align: middle;\n",
              "    }\n",
              "\n",
              "    .dataframe tbody tr th {\n",
              "        vertical-align: top;\n",
              "    }\n",
              "\n",
              "    .dataframe thead th {\n",
              "        text-align: right;\n",
              "    }\n",
              "</style>\n",
              "<table border=\"1\" class=\"dataframe\">\n",
              "  <thead>\n",
              "    <tr style=\"text-align: right;\">\n",
              "      <th></th>\n",
              "      <th>vidid</th>\n",
              "      <th>adview</th>\n",
              "      <th>views</th>\n",
              "      <th>likes</th>\n",
              "      <th>dislikes</th>\n",
              "      <th>comment</th>\n",
              "      <th>published</th>\n",
              "      <th>duration</th>\n",
              "      <th>category</th>\n",
              "    </tr>\n",
              "  </thead>\n",
              "  <tbody>\n",
              "    <tr>\n",
              "      <th>0</th>\n",
              "      <td>VID_18655</td>\n",
              "      <td>40</td>\n",
              "      <td>1031602</td>\n",
              "      <td>8523</td>\n",
              "      <td>363</td>\n",
              "      <td>1095</td>\n",
              "      <td>2016-09-14</td>\n",
              "      <td>PT7M37S</td>\n",
              "      <td>F</td>\n",
              "    </tr>\n",
              "    <tr>\n",
              "      <th>1</th>\n",
              "      <td>VID_14135</td>\n",
              "      <td>2</td>\n",
              "      <td>1707</td>\n",
              "      <td>56</td>\n",
              "      <td>2</td>\n",
              "      <td>6</td>\n",
              "      <td>2016-10-01</td>\n",
              "      <td>PT9M30S</td>\n",
              "      <td>D</td>\n",
              "    </tr>\n",
              "    <tr>\n",
              "      <th>2</th>\n",
              "      <td>VID_2187</td>\n",
              "      <td>1</td>\n",
              "      <td>2023</td>\n",
              "      <td>25</td>\n",
              "      <td>0</td>\n",
              "      <td>2</td>\n",
              "      <td>2016-07-02</td>\n",
              "      <td>PT2M16S</td>\n",
              "      <td>C</td>\n",
              "    </tr>\n",
              "    <tr>\n",
              "      <th>3</th>\n",
              "      <td>VID_23096</td>\n",
              "      <td>6</td>\n",
              "      <td>620860</td>\n",
              "      <td>777</td>\n",
              "      <td>161</td>\n",
              "      <td>153</td>\n",
              "      <td>2016-07-27</td>\n",
              "      <td>PT4M22S</td>\n",
              "      <td>H</td>\n",
              "    </tr>\n",
              "    <tr>\n",
              "      <th>4</th>\n",
              "      <td>VID_10175</td>\n",
              "      <td>1</td>\n",
              "      <td>666</td>\n",
              "      <td>1</td>\n",
              "      <td>0</td>\n",
              "      <td>0</td>\n",
              "      <td>2016-06-29</td>\n",
              "      <td>PT31S</td>\n",
              "      <td>D</td>\n",
              "    </tr>\n",
              "  </tbody>\n",
              "</table>\n",
              "</div>"
            ],
            "text/plain": [
              "       vidid  adview    views likes  ... comment   published duration category\n",
              "0  VID_18655      40  1031602  8523  ...    1095  2016-09-14  PT7M37S        F\n",
              "1  VID_14135       2     1707    56  ...       6  2016-10-01  PT9M30S        D\n",
              "2   VID_2187       1     2023    25  ...       2  2016-07-02  PT2M16S        C\n",
              "3  VID_23096       6   620860   777  ...     153  2016-07-27  PT4M22S        H\n",
              "4  VID_10175       1      666     1  ...       0  2016-06-29    PT31S        D\n",
              "\n",
              "[5 rows x 9 columns]"
            ]
          },
          "metadata": {
            "tags": []
          },
          "execution_count": 243
        }
      ]
    },
    {
      "cell_type": "code",
      "metadata": {
        "colab": {
          "base_uri": "https://localhost:8080/",
          "height": 203
        },
        "id": "0_k9gGYUrQge",
        "outputId": "b55b1fc0-8fd8-4f9f-f5b5-c9f42fdc5587"
      },
      "source": [
        "test.tail()"
      ],
      "execution_count": null,
      "outputs": [
        {
          "output_type": "execute_result",
          "data": {
            "text/html": [
              "<div>\n",
              "<style scoped>\n",
              "    .dataframe tbody tr th:only-of-type {\n",
              "        vertical-align: middle;\n",
              "    }\n",
              "\n",
              "    .dataframe tbody tr th {\n",
              "        vertical-align: top;\n",
              "    }\n",
              "\n",
              "    .dataframe thead th {\n",
              "        text-align: right;\n",
              "    }\n",
              "</style>\n",
              "<table border=\"1\" class=\"dataframe\">\n",
              "  <thead>\n",
              "    <tr style=\"text-align: right;\">\n",
              "      <th></th>\n",
              "      <th>vidid</th>\n",
              "      <th>adview</th>\n",
              "      <th>views</th>\n",
              "      <th>likes</th>\n",
              "      <th>dislikes</th>\n",
              "      <th>comment</th>\n",
              "      <th>published</th>\n",
              "      <th>duration</th>\n",
              "      <th>category</th>\n",
              "    </tr>\n",
              "  </thead>\n",
              "  <tbody>\n",
              "    <tr>\n",
              "      <th>14994</th>\n",
              "      <td>VID_31</td>\n",
              "      <td>2</td>\n",
              "      <td>525949</td>\n",
              "      <td>1137</td>\n",
              "      <td>83</td>\n",
              "      <td>86</td>\n",
              "      <td>2015-05-18</td>\n",
              "      <td>PT6M10S</td>\n",
              "      <td>A</td>\n",
              "    </tr>\n",
              "    <tr>\n",
              "      <th>14995</th>\n",
              "      <td>VID_5861</td>\n",
              "      <td>1</td>\n",
              "      <td>665673</td>\n",
              "      <td>3849</td>\n",
              "      <td>156</td>\n",
              "      <td>569</td>\n",
              "      <td>2015-10-20</td>\n",
              "      <td>PT3M56S</td>\n",
              "      <td>D</td>\n",
              "    </tr>\n",
              "    <tr>\n",
              "      <th>14996</th>\n",
              "      <td>VID_805</td>\n",
              "      <td>4</td>\n",
              "      <td>3479</td>\n",
              "      <td>16</td>\n",
              "      <td>1</td>\n",
              "      <td>1</td>\n",
              "      <td>2013-08-23</td>\n",
              "      <td>PT3M13S</td>\n",
              "      <td>B</td>\n",
              "    </tr>\n",
              "    <tr>\n",
              "      <th>14997</th>\n",
              "      <td>VID_19843</td>\n",
              "      <td>1</td>\n",
              "      <td>963</td>\n",
              "      <td>0</td>\n",
              "      <td>0</td>\n",
              "      <td>0</td>\n",
              "      <td>2010-10-02</td>\n",
              "      <td>PT26S</td>\n",
              "      <td>G</td>\n",
              "    </tr>\n",
              "    <tr>\n",
              "      <th>14998</th>\n",
              "      <td>VID_8534</td>\n",
              "      <td>1</td>\n",
              "      <td>15212</td>\n",
              "      <td>22</td>\n",
              "      <td>5</td>\n",
              "      <td>4</td>\n",
              "      <td>2016-02-19</td>\n",
              "      <td>PT1M1S</td>\n",
              "      <td>D</td>\n",
              "    </tr>\n",
              "  </tbody>\n",
              "</table>\n",
              "</div>"
            ],
            "text/plain": [
              "           vidid  adview   views likes  ... comment   published duration category\n",
              "14994     VID_31       2  525949  1137  ...      86  2015-05-18  PT6M10S        A\n",
              "14995   VID_5861       1  665673  3849  ...     569  2015-10-20  PT3M56S        D\n",
              "14996    VID_805       4    3479    16  ...       1  2013-08-23  PT3M13S        B\n",
              "14997  VID_19843       1     963     0  ...       0  2010-10-02    PT26S        G\n",
              "14998   VID_8534       1   15212    22  ...       4  2016-02-19   PT1M1S        D\n",
              "\n",
              "[5 rows x 9 columns]"
            ]
          },
          "metadata": {
            "tags": []
          },
          "execution_count": 244
        }
      ]
    },
    {
      "cell_type": "code",
      "metadata": {
        "colab": {
          "base_uri": "https://localhost:8080/"
        },
        "id": "DYIQGLtPrTFR",
        "outputId": "2ecea171-9746-461a-de76-357614e4dab8"
      },
      "source": [
        "test.shape"
      ],
      "execution_count": null,
      "outputs": [
        {
          "output_type": "execute_result",
          "data": {
            "text/plain": [
              "(14999, 9)"
            ]
          },
          "metadata": {
            "tags": []
          },
          "execution_count": 245
        }
      ]
    },
    {
      "cell_type": "code",
      "metadata": {
        "colab": {
          "base_uri": "https://localhost:8080/"
        },
        "id": "nNNC8ofJrVkW",
        "outputId": "8d2602f6-25b1-46ce-942f-a0029780f968"
      },
      "source": [
        "test.describe"
      ],
      "execution_count": null,
      "outputs": [
        {
          "output_type": "execute_result",
          "data": {
            "text/plain": [
              "<bound method NDFrame.describe of            vidid  adview    views likes  ... comment   published duration category\n",
              "0      VID_18655      40  1031602  8523  ...    1095  2016-09-14  PT7M37S        F\n",
              "1      VID_14135       2     1707    56  ...       6  2016-10-01  PT9M30S        D\n",
              "2       VID_2187       1     2023    25  ...       2  2016-07-02  PT2M16S        C\n",
              "3      VID_23096       6   620860   777  ...     153  2016-07-27  PT4M22S        H\n",
              "4      VID_10175       1      666     1  ...       0  2016-06-29    PT31S        D\n",
              "...          ...     ...      ...   ...  ...     ...         ...      ...      ...\n",
              "14994     VID_31       2   525949  1137  ...      86  2015-05-18  PT6M10S        A\n",
              "14995   VID_5861       1   665673  3849  ...     569  2015-10-20  PT3M56S        D\n",
              "14996    VID_805       4     3479    16  ...       1  2013-08-23  PT3M13S        B\n",
              "14997  VID_19843       1      963     0  ...       0  2010-10-02    PT26S        G\n",
              "14998   VID_8534       1    15212    22  ...       4  2016-02-19   PT1M1S        D\n",
              "\n",
              "[14999 rows x 9 columns]>"
            ]
          },
          "metadata": {
            "tags": []
          },
          "execution_count": 246
        }
      ]
    },
    {
      "cell_type": "code",
      "metadata": {
        "colab": {
          "base_uri": "https://localhost:8080/"
        },
        "id": "k4nWHYO_rY2y",
        "outputId": "56ebab03-7aab-4e00-b6cd-4715d87b4576"
      },
      "source": [
        "test.isnull().any()"
      ],
      "execution_count": null,
      "outputs": [
        {
          "output_type": "execute_result",
          "data": {
            "text/plain": [
              "vidid        False\n",
              "adview       False\n",
              "views        False\n",
              "likes        False\n",
              "dislikes     False\n",
              "comment      False\n",
              "published    False\n",
              "duration     False\n",
              "category     False\n",
              "dtype: bool"
            ]
          },
          "metadata": {
            "tags": []
          },
          "execution_count": 247
        }
      ]
    },
    {
      "cell_type": "code",
      "metadata": {
        "colab": {
          "base_uri": "https://localhost:8080/",
          "height": 417
        },
        "id": "Xw-JfkmVrjB5",
        "outputId": "21bdf271-c6ad-4c7a-8734-f94081ee9a4d"
      },
      "source": [
        "category={'A': 1,'B':2,'C':3,'D':4,'E':5,'F':6,'G':7,'H':8}\n",
        "test[\"category\"]=test[\"category\"].map(category)\n",
        "test"
      ],
      "execution_count": null,
      "outputs": [
        {
          "output_type": "execute_result",
          "data": {
            "text/html": [
              "<div>\n",
              "<style scoped>\n",
              "    .dataframe tbody tr th:only-of-type {\n",
              "        vertical-align: middle;\n",
              "    }\n",
              "\n",
              "    .dataframe tbody tr th {\n",
              "        vertical-align: top;\n",
              "    }\n",
              "\n",
              "    .dataframe thead th {\n",
              "        text-align: right;\n",
              "    }\n",
              "</style>\n",
              "<table border=\"1\" class=\"dataframe\">\n",
              "  <thead>\n",
              "    <tr style=\"text-align: right;\">\n",
              "      <th></th>\n",
              "      <th>vidid</th>\n",
              "      <th>adview</th>\n",
              "      <th>views</th>\n",
              "      <th>likes</th>\n",
              "      <th>dislikes</th>\n",
              "      <th>comment</th>\n",
              "      <th>published</th>\n",
              "      <th>duration</th>\n",
              "      <th>category</th>\n",
              "    </tr>\n",
              "  </thead>\n",
              "  <tbody>\n",
              "    <tr>\n",
              "      <th>0</th>\n",
              "      <td>VID_18655</td>\n",
              "      <td>40</td>\n",
              "      <td>1031602</td>\n",
              "      <td>8523</td>\n",
              "      <td>363</td>\n",
              "      <td>1095</td>\n",
              "      <td>2016-09-14</td>\n",
              "      <td>PT7M37S</td>\n",
              "      <td>6</td>\n",
              "    </tr>\n",
              "    <tr>\n",
              "      <th>1</th>\n",
              "      <td>VID_14135</td>\n",
              "      <td>2</td>\n",
              "      <td>1707</td>\n",
              "      <td>56</td>\n",
              "      <td>2</td>\n",
              "      <td>6</td>\n",
              "      <td>2016-10-01</td>\n",
              "      <td>PT9M30S</td>\n",
              "      <td>4</td>\n",
              "    </tr>\n",
              "    <tr>\n",
              "      <th>2</th>\n",
              "      <td>VID_2187</td>\n",
              "      <td>1</td>\n",
              "      <td>2023</td>\n",
              "      <td>25</td>\n",
              "      <td>0</td>\n",
              "      <td>2</td>\n",
              "      <td>2016-07-02</td>\n",
              "      <td>PT2M16S</td>\n",
              "      <td>3</td>\n",
              "    </tr>\n",
              "    <tr>\n",
              "      <th>3</th>\n",
              "      <td>VID_23096</td>\n",
              "      <td>6</td>\n",
              "      <td>620860</td>\n",
              "      <td>777</td>\n",
              "      <td>161</td>\n",
              "      <td>153</td>\n",
              "      <td>2016-07-27</td>\n",
              "      <td>PT4M22S</td>\n",
              "      <td>8</td>\n",
              "    </tr>\n",
              "    <tr>\n",
              "      <th>4</th>\n",
              "      <td>VID_10175</td>\n",
              "      <td>1</td>\n",
              "      <td>666</td>\n",
              "      <td>1</td>\n",
              "      <td>0</td>\n",
              "      <td>0</td>\n",
              "      <td>2016-06-29</td>\n",
              "      <td>PT31S</td>\n",
              "      <td>4</td>\n",
              "    </tr>\n",
              "    <tr>\n",
              "      <th>...</th>\n",
              "      <td>...</td>\n",
              "      <td>...</td>\n",
              "      <td>...</td>\n",
              "      <td>...</td>\n",
              "      <td>...</td>\n",
              "      <td>...</td>\n",
              "      <td>...</td>\n",
              "      <td>...</td>\n",
              "      <td>...</td>\n",
              "    </tr>\n",
              "    <tr>\n",
              "      <th>14994</th>\n",
              "      <td>VID_31</td>\n",
              "      <td>2</td>\n",
              "      <td>525949</td>\n",
              "      <td>1137</td>\n",
              "      <td>83</td>\n",
              "      <td>86</td>\n",
              "      <td>2015-05-18</td>\n",
              "      <td>PT6M10S</td>\n",
              "      <td>1</td>\n",
              "    </tr>\n",
              "    <tr>\n",
              "      <th>14995</th>\n",
              "      <td>VID_5861</td>\n",
              "      <td>1</td>\n",
              "      <td>665673</td>\n",
              "      <td>3849</td>\n",
              "      <td>156</td>\n",
              "      <td>569</td>\n",
              "      <td>2015-10-20</td>\n",
              "      <td>PT3M56S</td>\n",
              "      <td>4</td>\n",
              "    </tr>\n",
              "    <tr>\n",
              "      <th>14996</th>\n",
              "      <td>VID_805</td>\n",
              "      <td>4</td>\n",
              "      <td>3479</td>\n",
              "      <td>16</td>\n",
              "      <td>1</td>\n",
              "      <td>1</td>\n",
              "      <td>2013-08-23</td>\n",
              "      <td>PT3M13S</td>\n",
              "      <td>2</td>\n",
              "    </tr>\n",
              "    <tr>\n",
              "      <th>14997</th>\n",
              "      <td>VID_19843</td>\n",
              "      <td>1</td>\n",
              "      <td>963</td>\n",
              "      <td>0</td>\n",
              "      <td>0</td>\n",
              "      <td>0</td>\n",
              "      <td>2010-10-02</td>\n",
              "      <td>PT26S</td>\n",
              "      <td>7</td>\n",
              "    </tr>\n",
              "    <tr>\n",
              "      <th>14998</th>\n",
              "      <td>VID_8534</td>\n",
              "      <td>1</td>\n",
              "      <td>15212</td>\n",
              "      <td>22</td>\n",
              "      <td>5</td>\n",
              "      <td>4</td>\n",
              "      <td>2016-02-19</td>\n",
              "      <td>PT1M1S</td>\n",
              "      <td>4</td>\n",
              "    </tr>\n",
              "  </tbody>\n",
              "</table>\n",
              "<p>14999 rows × 9 columns</p>\n",
              "</div>"
            ],
            "text/plain": [
              "           vidid  adview    views likes  ... comment   published duration category\n",
              "0      VID_18655      40  1031602  8523  ...    1095  2016-09-14  PT7M37S        6\n",
              "1      VID_14135       2     1707    56  ...       6  2016-10-01  PT9M30S        4\n",
              "2       VID_2187       1     2023    25  ...       2  2016-07-02  PT2M16S        3\n",
              "3      VID_23096       6   620860   777  ...     153  2016-07-27  PT4M22S        8\n",
              "4      VID_10175       1      666     1  ...       0  2016-06-29    PT31S        4\n",
              "...          ...     ...      ...   ...  ...     ...         ...      ...      ...\n",
              "14994     VID_31       2   525949  1137  ...      86  2015-05-18  PT6M10S        1\n",
              "14995   VID_5861       1   665673  3849  ...     569  2015-10-20  PT3M56S        4\n",
              "14996    VID_805       4     3479    16  ...       1  2013-08-23  PT3M13S        2\n",
              "14997  VID_19843       1      963     0  ...       0  2010-10-02    PT26S        7\n",
              "14998   VID_8534       1    15212    22  ...       4  2016-02-19   PT1M1S        4\n",
              "\n",
              "[14999 rows x 9 columns]"
            ]
          },
          "metadata": {
            "tags": []
          },
          "execution_count": 248
        }
      ]
    },
    {
      "cell_type": "code",
      "metadata": {
        "colab": {
          "base_uri": "https://localhost:8080/",
          "height": 417
        },
        "id": "ykFo-0U3rm4p",
        "outputId": "db41469e-ca77-44a6-f134-0aa0f7e77d97"
      },
      "source": [
        "test=test[test.views!='F']\n",
        "test=test[test.likes!='F']\n",
        "test=test[test.dislikes!='F']\n",
        "test=test[test.comment!='F']\n",
        "test"
      ],
      "execution_count": null,
      "outputs": [
        {
          "output_type": "execute_result",
          "data": {
            "text/html": [
              "<div>\n",
              "<style scoped>\n",
              "    .dataframe tbody tr th:only-of-type {\n",
              "        vertical-align: middle;\n",
              "    }\n",
              "\n",
              "    .dataframe tbody tr th {\n",
              "        vertical-align: top;\n",
              "    }\n",
              "\n",
              "    .dataframe thead th {\n",
              "        text-align: right;\n",
              "    }\n",
              "</style>\n",
              "<table border=\"1\" class=\"dataframe\">\n",
              "  <thead>\n",
              "    <tr style=\"text-align: right;\">\n",
              "      <th></th>\n",
              "      <th>vidid</th>\n",
              "      <th>adview</th>\n",
              "      <th>views</th>\n",
              "      <th>likes</th>\n",
              "      <th>dislikes</th>\n",
              "      <th>comment</th>\n",
              "      <th>published</th>\n",
              "      <th>duration</th>\n",
              "      <th>category</th>\n",
              "    </tr>\n",
              "  </thead>\n",
              "  <tbody>\n",
              "    <tr>\n",
              "      <th>0</th>\n",
              "      <td>VID_18655</td>\n",
              "      <td>40</td>\n",
              "      <td>1031602</td>\n",
              "      <td>8523</td>\n",
              "      <td>363</td>\n",
              "      <td>1095</td>\n",
              "      <td>2016-09-14</td>\n",
              "      <td>PT7M37S</td>\n",
              "      <td>6</td>\n",
              "    </tr>\n",
              "    <tr>\n",
              "      <th>1</th>\n",
              "      <td>VID_14135</td>\n",
              "      <td>2</td>\n",
              "      <td>1707</td>\n",
              "      <td>56</td>\n",
              "      <td>2</td>\n",
              "      <td>6</td>\n",
              "      <td>2016-10-01</td>\n",
              "      <td>PT9M30S</td>\n",
              "      <td>4</td>\n",
              "    </tr>\n",
              "    <tr>\n",
              "      <th>2</th>\n",
              "      <td>VID_2187</td>\n",
              "      <td>1</td>\n",
              "      <td>2023</td>\n",
              "      <td>25</td>\n",
              "      <td>0</td>\n",
              "      <td>2</td>\n",
              "      <td>2016-07-02</td>\n",
              "      <td>PT2M16S</td>\n",
              "      <td>3</td>\n",
              "    </tr>\n",
              "    <tr>\n",
              "      <th>3</th>\n",
              "      <td>VID_23096</td>\n",
              "      <td>6</td>\n",
              "      <td>620860</td>\n",
              "      <td>777</td>\n",
              "      <td>161</td>\n",
              "      <td>153</td>\n",
              "      <td>2016-07-27</td>\n",
              "      <td>PT4M22S</td>\n",
              "      <td>8</td>\n",
              "    </tr>\n",
              "    <tr>\n",
              "      <th>4</th>\n",
              "      <td>VID_10175</td>\n",
              "      <td>1</td>\n",
              "      <td>666</td>\n",
              "      <td>1</td>\n",
              "      <td>0</td>\n",
              "      <td>0</td>\n",
              "      <td>2016-06-29</td>\n",
              "      <td>PT31S</td>\n",
              "      <td>4</td>\n",
              "    </tr>\n",
              "    <tr>\n",
              "      <th>...</th>\n",
              "      <td>...</td>\n",
              "      <td>...</td>\n",
              "      <td>...</td>\n",
              "      <td>...</td>\n",
              "      <td>...</td>\n",
              "      <td>...</td>\n",
              "      <td>...</td>\n",
              "      <td>...</td>\n",
              "      <td>...</td>\n",
              "    </tr>\n",
              "    <tr>\n",
              "      <th>14994</th>\n",
              "      <td>VID_31</td>\n",
              "      <td>2</td>\n",
              "      <td>525949</td>\n",
              "      <td>1137</td>\n",
              "      <td>83</td>\n",
              "      <td>86</td>\n",
              "      <td>2015-05-18</td>\n",
              "      <td>PT6M10S</td>\n",
              "      <td>1</td>\n",
              "    </tr>\n",
              "    <tr>\n",
              "      <th>14995</th>\n",
              "      <td>VID_5861</td>\n",
              "      <td>1</td>\n",
              "      <td>665673</td>\n",
              "      <td>3849</td>\n",
              "      <td>156</td>\n",
              "      <td>569</td>\n",
              "      <td>2015-10-20</td>\n",
              "      <td>PT3M56S</td>\n",
              "      <td>4</td>\n",
              "    </tr>\n",
              "    <tr>\n",
              "      <th>14996</th>\n",
              "      <td>VID_805</td>\n",
              "      <td>4</td>\n",
              "      <td>3479</td>\n",
              "      <td>16</td>\n",
              "      <td>1</td>\n",
              "      <td>1</td>\n",
              "      <td>2013-08-23</td>\n",
              "      <td>PT3M13S</td>\n",
              "      <td>2</td>\n",
              "    </tr>\n",
              "    <tr>\n",
              "      <th>14997</th>\n",
              "      <td>VID_19843</td>\n",
              "      <td>1</td>\n",
              "      <td>963</td>\n",
              "      <td>0</td>\n",
              "      <td>0</td>\n",
              "      <td>0</td>\n",
              "      <td>2010-10-02</td>\n",
              "      <td>PT26S</td>\n",
              "      <td>7</td>\n",
              "    </tr>\n",
              "    <tr>\n",
              "      <th>14998</th>\n",
              "      <td>VID_8534</td>\n",
              "      <td>1</td>\n",
              "      <td>15212</td>\n",
              "      <td>22</td>\n",
              "      <td>5</td>\n",
              "      <td>4</td>\n",
              "      <td>2016-02-19</td>\n",
              "      <td>PT1M1S</td>\n",
              "      <td>4</td>\n",
              "    </tr>\n",
              "  </tbody>\n",
              "</table>\n",
              "<p>14637 rows × 9 columns</p>\n",
              "</div>"
            ],
            "text/plain": [
              "           vidid  adview    views likes  ... comment   published duration category\n",
              "0      VID_18655      40  1031602  8523  ...    1095  2016-09-14  PT7M37S        6\n",
              "1      VID_14135       2     1707    56  ...       6  2016-10-01  PT9M30S        4\n",
              "2       VID_2187       1     2023    25  ...       2  2016-07-02  PT2M16S        3\n",
              "3      VID_23096       6   620860   777  ...     153  2016-07-27  PT4M22S        8\n",
              "4      VID_10175       1      666     1  ...       0  2016-06-29    PT31S        4\n",
              "...          ...     ...      ...   ...  ...     ...         ...      ...      ...\n",
              "14994     VID_31       2   525949  1137  ...      86  2015-05-18  PT6M10S        1\n",
              "14995   VID_5861       1   665673  3849  ...     569  2015-10-20  PT3M56S        4\n",
              "14996    VID_805       4     3479    16  ...       1  2013-08-23  PT3M13S        2\n",
              "14997  VID_19843       1      963     0  ...       0  2010-10-02    PT26S        7\n",
              "14998   VID_8534       1    15212    22  ...       4  2016-02-19   PT1M1S        4\n",
              "\n",
              "[14637 rows x 9 columns]"
            ]
          },
          "metadata": {
            "tags": []
          },
          "execution_count": 249
        }
      ]
    },
    {
      "cell_type": "code",
      "metadata": {
        "colab": {
          "base_uri": "https://localhost:8080/",
          "height": 417
        },
        "id": "91JfR5jWrprR",
        "outputId": "0f534823-c958-495b-9697-390bca32193a"
      },
      "source": [
        "test[\"views\"] = pd.to_numeric(test[\"views\"])\n",
        "test[\"comment\"] = pd.to_numeric(test[\"comment\"])\n",
        "test[\"likes\"] = pd.to_numeric(test[\"likes\"])\n",
        "test[\"dislikes\"] = pd.to_numeric(test[\"dislikes\"])\n",
        "test[\"adview\"]=pd.to_numeric(test[\"adview\"])\n",
        "column_vidid_2=test['vidid']\n",
        "test"
      ],
      "execution_count": null,
      "outputs": [
        {
          "output_type": "execute_result",
          "data": {
            "text/html": [
              "<div>\n",
              "<style scoped>\n",
              "    .dataframe tbody tr th:only-of-type {\n",
              "        vertical-align: middle;\n",
              "    }\n",
              "\n",
              "    .dataframe tbody tr th {\n",
              "        vertical-align: top;\n",
              "    }\n",
              "\n",
              "    .dataframe thead th {\n",
              "        text-align: right;\n",
              "    }\n",
              "</style>\n",
              "<table border=\"1\" class=\"dataframe\">\n",
              "  <thead>\n",
              "    <tr style=\"text-align: right;\">\n",
              "      <th></th>\n",
              "      <th>vidid</th>\n",
              "      <th>adview</th>\n",
              "      <th>views</th>\n",
              "      <th>likes</th>\n",
              "      <th>dislikes</th>\n",
              "      <th>comment</th>\n",
              "      <th>published</th>\n",
              "      <th>duration</th>\n",
              "      <th>category</th>\n",
              "    </tr>\n",
              "  </thead>\n",
              "  <tbody>\n",
              "    <tr>\n",
              "      <th>0</th>\n",
              "      <td>VID_18655</td>\n",
              "      <td>40</td>\n",
              "      <td>1031602</td>\n",
              "      <td>8523</td>\n",
              "      <td>363</td>\n",
              "      <td>1095</td>\n",
              "      <td>2016-09-14</td>\n",
              "      <td>PT7M37S</td>\n",
              "      <td>6</td>\n",
              "    </tr>\n",
              "    <tr>\n",
              "      <th>1</th>\n",
              "      <td>VID_14135</td>\n",
              "      <td>2</td>\n",
              "      <td>1707</td>\n",
              "      <td>56</td>\n",
              "      <td>2</td>\n",
              "      <td>6</td>\n",
              "      <td>2016-10-01</td>\n",
              "      <td>PT9M30S</td>\n",
              "      <td>4</td>\n",
              "    </tr>\n",
              "    <tr>\n",
              "      <th>2</th>\n",
              "      <td>VID_2187</td>\n",
              "      <td>1</td>\n",
              "      <td>2023</td>\n",
              "      <td>25</td>\n",
              "      <td>0</td>\n",
              "      <td>2</td>\n",
              "      <td>2016-07-02</td>\n",
              "      <td>PT2M16S</td>\n",
              "      <td>3</td>\n",
              "    </tr>\n",
              "    <tr>\n",
              "      <th>3</th>\n",
              "      <td>VID_23096</td>\n",
              "      <td>6</td>\n",
              "      <td>620860</td>\n",
              "      <td>777</td>\n",
              "      <td>161</td>\n",
              "      <td>153</td>\n",
              "      <td>2016-07-27</td>\n",
              "      <td>PT4M22S</td>\n",
              "      <td>8</td>\n",
              "    </tr>\n",
              "    <tr>\n",
              "      <th>4</th>\n",
              "      <td>VID_10175</td>\n",
              "      <td>1</td>\n",
              "      <td>666</td>\n",
              "      <td>1</td>\n",
              "      <td>0</td>\n",
              "      <td>0</td>\n",
              "      <td>2016-06-29</td>\n",
              "      <td>PT31S</td>\n",
              "      <td>4</td>\n",
              "    </tr>\n",
              "    <tr>\n",
              "      <th>...</th>\n",
              "      <td>...</td>\n",
              "      <td>...</td>\n",
              "      <td>...</td>\n",
              "      <td>...</td>\n",
              "      <td>...</td>\n",
              "      <td>...</td>\n",
              "      <td>...</td>\n",
              "      <td>...</td>\n",
              "      <td>...</td>\n",
              "    </tr>\n",
              "    <tr>\n",
              "      <th>14994</th>\n",
              "      <td>VID_31</td>\n",
              "      <td>2</td>\n",
              "      <td>525949</td>\n",
              "      <td>1137</td>\n",
              "      <td>83</td>\n",
              "      <td>86</td>\n",
              "      <td>2015-05-18</td>\n",
              "      <td>PT6M10S</td>\n",
              "      <td>1</td>\n",
              "    </tr>\n",
              "    <tr>\n",
              "      <th>14995</th>\n",
              "      <td>VID_5861</td>\n",
              "      <td>1</td>\n",
              "      <td>665673</td>\n",
              "      <td>3849</td>\n",
              "      <td>156</td>\n",
              "      <td>569</td>\n",
              "      <td>2015-10-20</td>\n",
              "      <td>PT3M56S</td>\n",
              "      <td>4</td>\n",
              "    </tr>\n",
              "    <tr>\n",
              "      <th>14996</th>\n",
              "      <td>VID_805</td>\n",
              "      <td>4</td>\n",
              "      <td>3479</td>\n",
              "      <td>16</td>\n",
              "      <td>1</td>\n",
              "      <td>1</td>\n",
              "      <td>2013-08-23</td>\n",
              "      <td>PT3M13S</td>\n",
              "      <td>2</td>\n",
              "    </tr>\n",
              "    <tr>\n",
              "      <th>14997</th>\n",
              "      <td>VID_19843</td>\n",
              "      <td>1</td>\n",
              "      <td>963</td>\n",
              "      <td>0</td>\n",
              "      <td>0</td>\n",
              "      <td>0</td>\n",
              "      <td>2010-10-02</td>\n",
              "      <td>PT26S</td>\n",
              "      <td>7</td>\n",
              "    </tr>\n",
              "    <tr>\n",
              "      <th>14998</th>\n",
              "      <td>VID_8534</td>\n",
              "      <td>1</td>\n",
              "      <td>15212</td>\n",
              "      <td>22</td>\n",
              "      <td>5</td>\n",
              "      <td>4</td>\n",
              "      <td>2016-02-19</td>\n",
              "      <td>PT1M1S</td>\n",
              "      <td>4</td>\n",
              "    </tr>\n",
              "  </tbody>\n",
              "</table>\n",
              "<p>14637 rows × 9 columns</p>\n",
              "</div>"
            ],
            "text/plain": [
              "           vidid  adview    views  ...   published  duration  category\n",
              "0      VID_18655      40  1031602  ...  2016-09-14   PT7M37S         6\n",
              "1      VID_14135       2     1707  ...  2016-10-01   PT9M30S         4\n",
              "2       VID_2187       1     2023  ...  2016-07-02   PT2M16S         3\n",
              "3      VID_23096       6   620860  ...  2016-07-27   PT4M22S         8\n",
              "4      VID_10175       1      666  ...  2016-06-29     PT31S         4\n",
              "...          ...     ...      ...  ...         ...       ...       ...\n",
              "14994     VID_31       2   525949  ...  2015-05-18   PT6M10S         1\n",
              "14995   VID_5861       1   665673  ...  2015-10-20   PT3M56S         4\n",
              "14996    VID_805       4     3479  ...  2013-08-23   PT3M13S         2\n",
              "14997  VID_19843       1      963  ...  2010-10-02     PT26S         7\n",
              "14998   VID_8534       1    15212  ...  2016-02-19    PT1M1S         4\n",
              "\n",
              "[14637 rows x 9 columns]"
            ]
          },
          "metadata": {
            "tags": []
          },
          "execution_count": 250
        }
      ]
    },
    {
      "cell_type": "code",
      "metadata": {
        "colab": {
          "base_uri": "https://localhost:8080/",
          "height": 417
        },
        "id": "lBA6LbJqrtq5",
        "outputId": "3127ddae-8f57-43ee-d8d5-e6d4057e144e"
      },
      "source": [
        "from sklearn.preprocessing import LabelEncoder\n",
        "test['duration']=LabelEncoder().fit_transform(test['duration'])\n",
        "test['vidid']=LabelEncoder().fit_transform(test['vidid'])\n",
        "test['published']=LabelEncoder().fit_transform(test['published'])\n",
        "test"
      ],
      "execution_count": null,
      "outputs": [
        {
          "output_type": "execute_result",
          "data": {
            "text/html": [
              "<div>\n",
              "<style scoped>\n",
              "    .dataframe tbody tr th:only-of-type {\n",
              "        vertical-align: middle;\n",
              "    }\n",
              "\n",
              "    .dataframe tbody tr th {\n",
              "        vertical-align: top;\n",
              "    }\n",
              "\n",
              "    .dataframe thead th {\n",
              "        text-align: right;\n",
              "    }\n",
              "</style>\n",
              "<table border=\"1\" class=\"dataframe\">\n",
              "  <thead>\n",
              "    <tr style=\"text-align: right;\">\n",
              "      <th></th>\n",
              "      <th>vidid</th>\n",
              "      <th>adview</th>\n",
              "      <th>views</th>\n",
              "      <th>likes</th>\n",
              "      <th>dislikes</th>\n",
              "      <th>comment</th>\n",
              "      <th>published</th>\n",
              "      <th>duration</th>\n",
              "      <th>category</th>\n",
              "    </tr>\n",
              "  </thead>\n",
              "  <tbody>\n",
              "    <tr>\n",
              "      <th>0</th>\n",
              "      <td>5912</td>\n",
              "      <td>40</td>\n",
              "      <td>1031602</td>\n",
              "      <td>8523</td>\n",
              "      <td>363</td>\n",
              "      <td>1095</td>\n",
              "      <td>2168</td>\n",
              "      <td>2925</td>\n",
              "      <td>6</td>\n",
              "    </tr>\n",
              "    <tr>\n",
              "      <th>1</th>\n",
              "      <td>2741</td>\n",
              "      <td>2</td>\n",
              "      <td>1707</td>\n",
              "      <td>56</td>\n",
              "      <td>2</td>\n",
              "      <td>6</td>\n",
              "      <td>2185</td>\n",
              "      <td>3040</td>\n",
              "      <td>4</td>\n",
              "    </tr>\n",
              "    <tr>\n",
              "      <th>2</th>\n",
              "      <td>8138</td>\n",
              "      <td>1</td>\n",
              "      <td>2023</td>\n",
              "      <td>25</td>\n",
              "      <td>0</td>\n",
              "      <td>2</td>\n",
              "      <td>2094</td>\n",
              "      <td>1863</td>\n",
              "      <td>3</td>\n",
              "    </tr>\n",
              "    <tr>\n",
              "      <th>3</th>\n",
              "      <td>9005</td>\n",
              "      <td>6</td>\n",
              "      <td>620860</td>\n",
              "      <td>777</td>\n",
              "      <td>161</td>\n",
              "      <td>153</td>\n",
              "      <td>2119</td>\n",
              "      <td>2546</td>\n",
              "      <td>8</td>\n",
              "    </tr>\n",
              "    <tr>\n",
              "      <th>4</th>\n",
              "      <td>122</td>\n",
              "      <td>1</td>\n",
              "      <td>666</td>\n",
              "      <td>1</td>\n",
              "      <td>0</td>\n",
              "      <td>0</td>\n",
              "      <td>2091</td>\n",
              "      <td>1963</td>\n",
              "      <td>4</td>\n",
              "    </tr>\n",
              "    <tr>\n",
              "      <th>...</th>\n",
              "      <td>...</td>\n",
              "      <td>...</td>\n",
              "      <td>...</td>\n",
              "      <td>...</td>\n",
              "      <td>...</td>\n",
              "      <td>...</td>\n",
              "      <td>...</td>\n",
              "      <td>...</td>\n",
              "      <td>...</td>\n",
              "    </tr>\n",
              "    <tr>\n",
              "      <th>14994</th>\n",
              "      <td>9869</td>\n",
              "      <td>2</td>\n",
              "      <td>525949</td>\n",
              "      <td>1137</td>\n",
              "      <td>83</td>\n",
              "      <td>86</td>\n",
              "      <td>1683</td>\n",
              "      <td>2833</td>\n",
              "      <td>1</td>\n",
              "    </tr>\n",
              "    <tr>\n",
              "      <th>14995</th>\n",
              "      <td>11758</td>\n",
              "      <td>1</td>\n",
              "      <td>665673</td>\n",
              "      <td>3849</td>\n",
              "      <td>156</td>\n",
              "      <td>569</td>\n",
              "      <td>1838</td>\n",
              "      <td>2257</td>\n",
              "      <td>4</td>\n",
              "    </tr>\n",
              "    <tr>\n",
              "      <th>14996</th>\n",
              "      <td>13263</td>\n",
              "      <td>4</td>\n",
              "      <td>3479</td>\n",
              "      <td>16</td>\n",
              "      <td>1</td>\n",
              "      <td>1</td>\n",
              "      <td>1053</td>\n",
              "      <td>2210</td>\n",
              "      <td>2</td>\n",
              "    </tr>\n",
              "    <tr>\n",
              "      <th>14997</th>\n",
              "      <td>6736</td>\n",
              "      <td>1</td>\n",
              "      <td>963</td>\n",
              "      <td>0</td>\n",
              "      <td>0</td>\n",
              "      <td>0</td>\n",
              "      <td>222</td>\n",
              "      <td>1364</td>\n",
              "      <td>7</td>\n",
              "    </tr>\n",
              "    <tr>\n",
              "      <th>14998</th>\n",
              "      <td>13592</td>\n",
              "      <td>1</td>\n",
              "      <td>15212</td>\n",
              "      <td>22</td>\n",
              "      <td>5</td>\n",
              "      <td>4</td>\n",
              "      <td>1960</td>\n",
              "      <td>1050</td>\n",
              "      <td>4</td>\n",
              "    </tr>\n",
              "  </tbody>\n",
              "</table>\n",
              "<p>14637 rows × 9 columns</p>\n",
              "</div>"
            ],
            "text/plain": [
              "       vidid  adview    views  likes  ...  comment  published  duration  category\n",
              "0       5912      40  1031602   8523  ...     1095       2168      2925         6\n",
              "1       2741       2     1707     56  ...        6       2185      3040         4\n",
              "2       8138       1     2023     25  ...        2       2094      1863         3\n",
              "3       9005       6   620860    777  ...      153       2119      2546         8\n",
              "4        122       1      666      1  ...        0       2091      1963         4\n",
              "...      ...     ...      ...    ...  ...      ...        ...       ...       ...\n",
              "14994   9869       2   525949   1137  ...       86       1683      2833         1\n",
              "14995  11758       1   665673   3849  ...      569       1838      2257         4\n",
              "14996  13263       4     3479     16  ...        1       1053      2210         2\n",
              "14997   6736       1      963      0  ...        0        222      1364         7\n",
              "14998  13592       1    15212     22  ...        4       1960      1050         4\n",
              "\n",
              "[14637 rows x 9 columns]"
            ]
          },
          "metadata": {
            "tags": []
          },
          "execution_count": 251
        }
      ]
    },
    {
      "cell_type": "code",
      "metadata": {
        "colab": {
          "base_uri": "https://localhost:8080/",
          "height": 203
        },
        "id": "yjFMUrhJryxI",
        "outputId": "9724c9da-6358-4572-d4c5-04dc26ea5344"
      },
      "source": [
        "import datetime\n",
        "import time\n",
        "def checki(x):\n",
        "  y = x[2:]\n",
        "  h = ''\n",
        "  m = ''\n",
        "  s = ''\n",
        "  mm = ''\n",
        "  P = ['H','M','S']\n",
        "  for i in y:\n",
        "    if i not in P:\n",
        "      mm+=i\n",
        "    else:\n",
        "      if(i==\"H\"):\n",
        "        h = mm\n",
        "        mm = ''\n",
        "      elif(i == \"M\"):\n",
        "        m = mm\n",
        "        mm = ''\n",
        "      else:\n",
        "        s = mm\n",
        "        mm = ''\n",
        "  if(h==''):\n",
        "    h = '00'\n",
        "  if(m == ''):\n",
        "    m = '00'\n",
        "  if(s==''):\n",
        "    s='00'\n",
        "  bp = h+':'+m+':'+s\n",
        "  return bp\n",
        "  train=pd.read_csv(\"test.csv\")\n",
        "mp = pd.read_csv(\"test.csv\")[\"duration\"]\n",
        "time = mp.apply(checki)\n",
        "\n",
        "def func_sec(time_string):\n",
        "  h, m, s = time_string.split(':')\n",
        "  return int(h) * 3600 + int(m) * 60 + int(s)\n",
        "\n",
        "time1=time.apply(func_sec)\n",
        "\n",
        "test[\"duration\"]=time1\n",
        "test.head()"
      ],
      "execution_count": null,
      "outputs": [
        {
          "output_type": "execute_result",
          "data": {
            "text/html": [
              "<div>\n",
              "<style scoped>\n",
              "    .dataframe tbody tr th:only-of-type {\n",
              "        vertical-align: middle;\n",
              "    }\n",
              "\n",
              "    .dataframe tbody tr th {\n",
              "        vertical-align: top;\n",
              "    }\n",
              "\n",
              "    .dataframe thead th {\n",
              "        text-align: right;\n",
              "    }\n",
              "</style>\n",
              "<table border=\"1\" class=\"dataframe\">\n",
              "  <thead>\n",
              "    <tr style=\"text-align: right;\">\n",
              "      <th></th>\n",
              "      <th>vidid</th>\n",
              "      <th>adview</th>\n",
              "      <th>views</th>\n",
              "      <th>likes</th>\n",
              "      <th>dislikes</th>\n",
              "      <th>comment</th>\n",
              "      <th>published</th>\n",
              "      <th>duration</th>\n",
              "      <th>category</th>\n",
              "    </tr>\n",
              "  </thead>\n",
              "  <tbody>\n",
              "    <tr>\n",
              "      <th>0</th>\n",
              "      <td>5912</td>\n",
              "      <td>40</td>\n",
              "      <td>1031602</td>\n",
              "      <td>8523</td>\n",
              "      <td>363</td>\n",
              "      <td>1095</td>\n",
              "      <td>2168</td>\n",
              "      <td>449.0</td>\n",
              "      <td>6</td>\n",
              "    </tr>\n",
              "    <tr>\n",
              "      <th>1</th>\n",
              "      <td>2741</td>\n",
              "      <td>2</td>\n",
              "      <td>1707</td>\n",
              "      <td>56</td>\n",
              "      <td>2</td>\n",
              "      <td>6</td>\n",
              "      <td>2185</td>\n",
              "      <td>389.0</td>\n",
              "      <td>4</td>\n",
              "    </tr>\n",
              "    <tr>\n",
              "      <th>2</th>\n",
              "      <td>8138</td>\n",
              "      <td>1</td>\n",
              "      <td>2023</td>\n",
              "      <td>25</td>\n",
              "      <td>0</td>\n",
              "      <td>2</td>\n",
              "      <td>2094</td>\n",
              "      <td>2274.0</td>\n",
              "      <td>3</td>\n",
              "    </tr>\n",
              "    <tr>\n",
              "      <th>3</th>\n",
              "      <td>9005</td>\n",
              "      <td>6</td>\n",
              "      <td>620860</td>\n",
              "      <td>777</td>\n",
              "      <td>161</td>\n",
              "      <td>153</td>\n",
              "      <td>2119</td>\n",
              "      <td>595.0</td>\n",
              "      <td>8</td>\n",
              "    </tr>\n",
              "    <tr>\n",
              "      <th>4</th>\n",
              "      <td>122</td>\n",
              "      <td>1</td>\n",
              "      <td>666</td>\n",
              "      <td>1</td>\n",
              "      <td>0</td>\n",
              "      <td>0</td>\n",
              "      <td>2091</td>\n",
              "      <td>188.0</td>\n",
              "      <td>4</td>\n",
              "    </tr>\n",
              "  </tbody>\n",
              "</table>\n",
              "</div>"
            ],
            "text/plain": [
              "   vidid  adview    views  likes  ...  comment  published  duration  category\n",
              "0   5912      40  1031602   8523  ...     1095       2168     449.0         6\n",
              "1   2741       2     1707     56  ...        6       2185     389.0         4\n",
              "2   8138       1     2023     25  ...        2       2094    2274.0         3\n",
              "3   9005       6   620860    777  ...      153       2119     595.0         8\n",
              "4    122       1      666      1  ...        0       2091     188.0         4\n",
              "\n",
              "[5 rows x 9 columns]"
            ]
          },
          "metadata": {
            "tags": []
          },
          "execution_count": 252
        }
      ]
    },
    {
      "cell_type": "code",
      "metadata": {
        "colab": {
          "base_uri": "https://localhost:8080/",
          "height": 417
        },
        "id": "rk_MnL4rsJdA",
        "outputId": "34d37cfe-1d09-46a8-e482-de669e076fba"
      },
      "source": [
        "test.iloc[:,-2:8]\n",
        "test.iloc[:,2:8].values\n",
        "test=test.dropna()\n",
        "test=test.drop([\"adview\"],axis=1)\n",
        "test=test.drop([\"vidid\"],axis=1)\n",
        "test"
      ],
      "execution_count": null,
      "outputs": [
        {
          "output_type": "execute_result",
          "data": {
            "text/html": [
              "<div>\n",
              "<style scoped>\n",
              "    .dataframe tbody tr th:only-of-type {\n",
              "        vertical-align: middle;\n",
              "    }\n",
              "\n",
              "    .dataframe tbody tr th {\n",
              "        vertical-align: top;\n",
              "    }\n",
              "\n",
              "    .dataframe thead th {\n",
              "        text-align: right;\n",
              "    }\n",
              "</style>\n",
              "<table border=\"1\" class=\"dataframe\">\n",
              "  <thead>\n",
              "    <tr style=\"text-align: right;\">\n",
              "      <th></th>\n",
              "      <th>views</th>\n",
              "      <th>likes</th>\n",
              "      <th>dislikes</th>\n",
              "      <th>comment</th>\n",
              "      <th>published</th>\n",
              "      <th>duration</th>\n",
              "      <th>category</th>\n",
              "    </tr>\n",
              "  </thead>\n",
              "  <tbody>\n",
              "    <tr>\n",
              "      <th>0</th>\n",
              "      <td>1031602</td>\n",
              "      <td>8523</td>\n",
              "      <td>363</td>\n",
              "      <td>1095</td>\n",
              "      <td>2168</td>\n",
              "      <td>449.0</td>\n",
              "      <td>6</td>\n",
              "    </tr>\n",
              "    <tr>\n",
              "      <th>1</th>\n",
              "      <td>1707</td>\n",
              "      <td>56</td>\n",
              "      <td>2</td>\n",
              "      <td>6</td>\n",
              "      <td>2185</td>\n",
              "      <td>389.0</td>\n",
              "      <td>4</td>\n",
              "    </tr>\n",
              "    <tr>\n",
              "      <th>2</th>\n",
              "      <td>2023</td>\n",
              "      <td>25</td>\n",
              "      <td>0</td>\n",
              "      <td>2</td>\n",
              "      <td>2094</td>\n",
              "      <td>2274.0</td>\n",
              "      <td>3</td>\n",
              "    </tr>\n",
              "    <tr>\n",
              "      <th>3</th>\n",
              "      <td>620860</td>\n",
              "      <td>777</td>\n",
              "      <td>161</td>\n",
              "      <td>153</td>\n",
              "      <td>2119</td>\n",
              "      <td>595.0</td>\n",
              "      <td>8</td>\n",
              "    </tr>\n",
              "    <tr>\n",
              "      <th>4</th>\n",
              "      <td>666</td>\n",
              "      <td>1</td>\n",
              "      <td>0</td>\n",
              "      <td>0</td>\n",
              "      <td>2091</td>\n",
              "      <td>188.0</td>\n",
              "      <td>4</td>\n",
              "    </tr>\n",
              "    <tr>\n",
              "      <th>...</th>\n",
              "      <td>...</td>\n",
              "      <td>...</td>\n",
              "      <td>...</td>\n",
              "      <td>...</td>\n",
              "      <td>...</td>\n",
              "      <td>...</td>\n",
              "      <td>...</td>\n",
              "    </tr>\n",
              "    <tr>\n",
              "      <th>8759</th>\n",
              "      <td>1909235</td>\n",
              "      <td>2939</td>\n",
              "      <td>365</td>\n",
              "      <td>326</td>\n",
              "      <td>2030</td>\n",
              "      <td>194.0</td>\n",
              "      <td>7</td>\n",
              "    </tr>\n",
              "    <tr>\n",
              "      <th>8760</th>\n",
              "      <td>140562</td>\n",
              "      <td>1876</td>\n",
              "      <td>105</td>\n",
              "      <td>111</td>\n",
              "      <td>2339</td>\n",
              "      <td>8315.0</td>\n",
              "      <td>4</td>\n",
              "    </tr>\n",
              "    <tr>\n",
              "      <th>8761</th>\n",
              "      <td>3275107</td>\n",
              "      <td>1031</td>\n",
              "      <td>921</td>\n",
              "      <td>134</td>\n",
              "      <td>1752</td>\n",
              "      <td>434.0</td>\n",
              "      <td>4</td>\n",
              "    </tr>\n",
              "    <tr>\n",
              "      <th>8762</th>\n",
              "      <td>38893</td>\n",
              "      <td>671</td>\n",
              "      <td>14</td>\n",
              "      <td>57</td>\n",
              "      <td>1143</td>\n",
              "      <td>195.0</td>\n",
              "      <td>4</td>\n",
              "    </tr>\n",
              "    <tr>\n",
              "      <th>8763</th>\n",
              "      <td>9416</td>\n",
              "      <td>10</td>\n",
              "      <td>5</td>\n",
              "      <td>0</td>\n",
              "      <td>1526</td>\n",
              "      <td>614.0</td>\n",
              "      <td>8</td>\n",
              "    </tr>\n",
              "  </tbody>\n",
              "</table>\n",
              "<p>8560 rows × 7 columns</p>\n",
              "</div>"
            ],
            "text/plain": [
              "        views  likes  dislikes  comment  published  duration  category\n",
              "0     1031602   8523       363     1095       2168     449.0         6\n",
              "1        1707     56         2        6       2185     389.0         4\n",
              "2        2023     25         0        2       2094    2274.0         3\n",
              "3      620860    777       161      153       2119     595.0         8\n",
              "4         666      1         0        0       2091     188.0         4\n",
              "...       ...    ...       ...      ...        ...       ...       ...\n",
              "8759  1909235   2939       365      326       2030     194.0         7\n",
              "8760   140562   1876       105      111       2339    8315.0         4\n",
              "8761  3275107   1031       921      134       1752     434.0         4\n",
              "8762    38893    671        14       57       1143     195.0         4\n",
              "8763     9416     10         5        0       1526     614.0         8\n",
              "\n",
              "[8560 rows x 7 columns]"
            ]
          },
          "metadata": {
            "tags": []
          },
          "execution_count": 253
        }
      ]
    },
    {
      "cell_type": "code",
      "metadata": {
        "id": "JVjAwmx4sL4w"
      },
      "source": [
        "import joblib\n",
        "classifier = joblib.load(\"SVR_youtubeadview.pkl\")\n",
        "prediction = classifier.predict(test)"
      ],
      "execution_count": null,
      "outputs": []
    },
    {
      "cell_type": "code",
      "metadata": {
        "colab": {
          "base_uri": "https://localhost:8080/"
        },
        "id": "dB_2Mar9sdiX",
        "outputId": "3d66ea05-28a1-426e-9886-1449b6b4399f"
      },
      "source": [
        "prediction"
      ],
      "execution_count": null,
      "outputs": [
        {
          "output_type": "execute_result",
          "data": {
            "text/plain": [
              "array([3.54851214, 3.54851214, 3.54851214, ..., 3.54851214, 3.54851214,\n",
              "       3.54851214])"
            ]
          },
          "metadata": {
            "tags": []
          },
          "execution_count": 255
        }
      ]
    },
    {
      "cell_type": "code",
      "metadata": {
        "id": "PngGAFUcwxgK"
      },
      "source": [
        "np.savetxt('Prediction.csv',prediction,delimiter=',')"
      ],
      "execution_count": null,
      "outputs": []
    }
  ]
}